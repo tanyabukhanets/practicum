{
 "cells": [
  {
   "cell_type": "markdown",
   "metadata": {},
   "source": [
    "## Постоянная Капрекара"
   ]
  },
  {
   "cell_type": "code",
   "execution_count": 1,
   "metadata": {},
   "outputs": [
    {
     "data": {
      "text/plain": [
       "[1, 4, 5, 0, 5, 5]"
      ]
     },
     "execution_count": 1,
     "metadata": {},
     "output_type": "execute_result"
    }
   ],
   "source": [
    "def numerics(n):\n",
    "    return [int(i) for i in str(n)]\n",
    "numerics(145055)"
   ]
  },
  {
   "cell_type": "code",
   "execution_count": 2,
   "metadata": {},
   "outputs": [],
   "source": [
    "def kaprekar_step(L):\n",
    "    max_n = ''.join([str(d) for d in sorted(L, reverse=True)])\n",
    "    return int(max_n) - int(max_n[::-1])"
   ]
  },
  {
   "cell_type": "code",
   "execution_count": 5,
   "metadata": {},
   "outputs": [
    {
     "name": "stdout",
     "output_type": "stream",
     "text": [
      "103303\n",
      "331767\n",
      "642654\n",
      "420876\n",
      "851742\n",
      "750843\n",
      "840852\n",
      "860832\n",
      "862632\n",
      "Следующее число - 642654, кажется процесс зациклился...\n"
     ]
    }
   ],
   "source": [
    "def kaprekar_check(n):\n",
    "    n_str = str(n)\n",
    "    return (n_str.isdigit() and not n in [100, 1000, 100000] and len(n_str) in [3, 4, 6] and len(set(numerics(n))) != 1)\n",
    "\n",
    "def kaprekar_loop(n):\n",
    "    if not kaprekar_check(n):\n",
    "        print(f\"Ошибка! На вход подано число {n}, не удовлетворяющее условиям процесса Капрекара\")\n",
    "        return\n",
    "    print(n)\n",
    "    previous_n_list = []\n",
    "    while not n in [495, 6174, 549945, 631764]:\n",
    "        previous_n_list += [n]\n",
    "        n = kaprekar_step(numerics(n))\n",
    "        if n in previous_n_list:\n",
    "            print(f\"Следующее число - {n}, кажется процесс зациклился...\")\n",
    "            break\n",
    "        print(n)\n",
    "\n",
    "\n",
    "kaprekar_loop(103303)"
   ]
  },
  {
   "cell_type": "markdown",
   "metadata": {},
   "source": [
    "## Последовательность Люка"
   ]
  },
  {
   "cell_type": "code",
   "execution_count": 23,
   "metadata": {},
   "outputs": [
    {
     "data": {
      "text/plain": [
       "67890"
      ]
     },
     "execution_count": 23,
     "metadata": {},
     "output_type": "execute_result"
    }
   ],
   "source": [
    "def luka(L0, L1, n):\n",
    "    if n < 2:\n",
    "        return [L0, L1][n]\n",
    "    for i in range(2, n + 1):\n",
    "        L0, L1 = L1, L0 + L1\n",
    "    return L1\n",
    "luka(12345, 67890, 1)"
   ]
  },
  {
   "cell_type": "code",
   "execution_count": 26,
   "metadata": {},
   "outputs": [
    {
     "name": "stdout",
     "output_type": "stream",
     "text": [
      "\n"
     ]
    },
    {
     "data": {
      "text/plain": [
       "Decimal('1.8461394653206206767620115909515797345298186576930')"
      ]
     },
     "execution_count": 26,
     "metadata": {},
     "output_type": "execute_result"
    }
   ],
   "source": [
    "from decimal import *\n",
    "getcontext().prec = 50\n",
    "\n",
    "def fi(L0, L1, n):\n",
    "    if n < 2:\n",
    "        return [L0, L1][n]\n",
    "    for _ in range(2, n + 1):\n",
    "        L0, L1 = L1, L0 + L1\n",
    "    return Decimal(L1) / Decimal(L0)\n",
    "fi(12345, 67890, 3)"
   ]
  },
  {
   "cell_type": "code",
   "execution_count": 41,
   "metadata": {},
   "outputs": [
    {
     "data": {
      "text/plain": [
       "3297699496801426076294262807413641769999287439108537044163066228644526656983642427308370190574712307922193589813056645551070883499282634062966038552424744025988977922"
      ]
     },
     "execution_count": 41,
     "metadata": {},
     "output_type": "execute_result"
    }
   ],
   "source": [
    "luke_list = [2,1,3,4,7,11,18,29,47,76,123,199,322,521,843, 1364,2207,3571,5778,9349,15127,24476,39603,64079,103682,167761, 271443,439204,710647,1149851, 1860498,3010349,4870847,7881196,12752043,20633239, 33385282,54018521,87403803]\n",
    "\n",
    "def super_L(n):\n",
    "    if n < 39:\n",
    "        return luke_list[n]\n",
    "    if not n % 5:\n",
    "        n //= 5\n",
    "        Ln = super_L(n)\n",
    "        return Ln ** 5 - 5 * (-1) ** n * Ln ** 3 + 5 * Ln\n",
    "    elif not n % 6:\n",
    "        n //= 6\n",
    "        Ln = super_L(n)\n",
    "        return Ln ** 6 - 6 * (-1) ** n * Ln ** 4 + 9 * Ln ** 2 - 2 * (-1) ** n\n",
    "    elif not n % 3:\n",
    "        n //= 3\n",
    "        Ln = super_L(n)\n",
    "        return Ln ** 3 - 3 * (-1) ** n * Ln\n",
    "    elif not n % 2:\n",
    "        n //= 2\n",
    "        Ln = super_L(n)\n",
    "        return Ln ** 2 - 2 * (-1) ** n\n",
    "super_L(9 * 88)"
   ]
  },
  {
   "cell_type": "markdown",
   "metadata": {},
   "source": [
    "## Число Капрекара\n",
    "Капрекар установил, что для некоторых чисел верно утверждение:\n",
    "\n",
    "Квадрат числа можно разбить на две части, сумма которых даёт исходное число.\n",
    "\n",
    "Например, 45 является числом Капрекара, поскольку 45^2=2025 20+25=45.\n",
    "\n",
    "По соглашению, вторая часть может начинаться с 0, но не должна быть нулевой.\n",
    "\n",
    "Так же следует учитывать, что \"части\" могут быть разной длины, например, 297^2=88209"
   ]
  },
  {
   "cell_type": "code",
   "execution_count": 67,
   "metadata": {
    "scrolled": true
   },
   "outputs": [
    {
     "name": "stdout",
     "output_type": "stream",
     "text": [
      "{27: ['2', '025'], 45: ['20', '25'], 207: ['202', '5']}\n",
      "\n",
      "True\n",
      "45 ** 2 = 2025\n",
      "20 + 25 = 45\n"
     ]
    },
    {
     "data": {
      "text/plain": [
       "'True\\n218400870420**2 = 47698940200213630976400\\n4769894020 + 0213630976400 = 218400870420'"
      ]
     },
     "execution_count": 67,
     "metadata": {},
     "output_type": "execute_result"
    }
   ],
   "source": [
    "def kaprekar1(n):\n",
    "    sq = str(n ** 2)\n",
    "    k_dict = {int(sq[:i]) + int(sq[i:]) : [sq[:i], sq[i:]] for i in range(1, len(sq)) if int(sq[i:])}\n",
    "    second_s = f\"{n} ** 2 = {sq}\"\n",
    "    print(k_dict)\n",
    "    print()\n",
    "    \n",
    "    if n in k_dict:\n",
    "        print(True)\n",
    "        print(second_s)\n",
    "        print(f\"{k_dict[n][0]} + {k_dict[n][1]} = {n}\")\n",
    "        return True\n",
    "    else:\n",
    "        print(False)\n",
    "        print(second_s)\n",
    "        return False\n",
    "    \n",
    "kaprekar(45)"
   ]
  },
  {
   "cell_type": "markdown",
   "metadata": {},
   "source": [
    "### Число Капрекара - решение покороче\n",
    "Для **десятичной системы счисления**. Возвращает True, если число является Числом Капрекара"
   ]
  },
  {
   "cell_type": "code",
   "execution_count": 8,
   "metadata": {},
   "outputs": [
    {
     "data": {
      "text/plain": [
       "True"
      ]
     },
     "execution_count": 8,
     "metadata": {},
     "output_type": "execute_result"
    }
   ],
   "source": [
    "# Для десятичной системы счисления возвращает True если число является Числом Капрекара\n",
    "def kaprekar_dec(n):\n",
    "    sq = str(n ** 2)\n",
    "    return n in [int(sq[:i]) + int(sq[i:]) for i in range(1, len(sq)) if int(sq[i:])]\n",
    "kaprekar(45)"
   ]
  },
  {
   "cell_type": "markdown",
   "metadata": {},
   "source": [
    "#### Напишите функцию convert(num, to_base=10, from_base=10), которая принимает на вход:\n",
    "\n",
    "* целое число num (может быть int в десятичной системе счисления, либо строкой в произвольной)\n",
    "* 2 целочисленных необязательных аргумента from_base и to_base со значениями по умолчанию 10, основанием исходной и будущей систем отстчёта.\n",
    "\n",
    "Функция возвращает строку.\n",
    "\n",
    "В качестве цифр используются буквы латинского алфавита в верхнем регистре"
   ]
  },
  {
   "cell_type": "code",
   "execution_count": 159,
   "metadata": {},
   "outputs": [
    {
     "data": {
      "text/plain": [
       "'101010'"
      ]
     },
     "execution_count": 159,
     "metadata": {},
     "output_type": "execute_result"
    }
   ],
   "source": [
    "def convert_to_dec(num, from_base=2):\n",
    "    return int(str(num), base=from_base)\n",
    "\n",
    "def convert_from_dec(num, to_base=2):\n",
    "    base_func_dic = {2: lambda n: bin(n), \n",
    "                     8: lambda n: oct(n), \n",
    "                     16: lambda n: hex(n).upper()}\n",
    "    if to_base in base_func_dic:\n",
    "        return base_func_dic[to_base](int(num))[2:]\n",
    "    \n",
    "    table, res = [], ''\n",
    "    if to_base > 10:\n",
    "        alphabet = 'ABCDEFGHIJKLMNOPQRSTUVWXYZ'\n",
    "        table = [i if i < 10 else alphabet[i - 10] for i in range(to_base)]\n",
    "    while num > 0:\n",
    "        current_char = num % to_base\n",
    "        if (table) and current_char > 9:\n",
    "            current_char = table[current_char]\n",
    "        res = str(current_char) + res\n",
    "        num //= to_base\n",
    "    return res\n",
    "\n",
    "def convert(num, to_base=10, from_base=10):\n",
    "    if to_base == from_base:\n",
    "        return num\n",
    "    if to_base < 2 or to_base > 36 or from_base < 2 or from_base > 36:\n",
    "        return\n",
    "    if from_base == 10:\n",
    "        num = int(num)\n",
    "    current_num = num\n",
    "    \n",
    "    # Если изначально число не в 10-ой системе, приведем его в 10-ую\n",
    "    if from_base != 10:\n",
    "        current_num = convert_to_dec(current_num, from_base)\n",
    "        if to_base == 10:\n",
    "            return current_num\n",
    "    return convert_from_dec(current_num, to_base)\n",
    "\n",
    "convert('2A', 16, 2)"
   ]
  },
  {
   "cell_type": "markdown",
   "metadata": {},
   "source": [
    "#### Более короткий вариант:"
   ]
  },
  {
   "cell_type": "code",
   "execution_count": 28,
   "metadata": {},
   "outputs": [
    {
     "data": {
      "text/plain": [
       "'2D'"
      ]
     },
     "execution_count": 28,
     "metadata": {},
     "output_type": "execute_result"
    }
   ],
   "source": [
    "def convert_from_dec(num, to_base=2):\n",
    "    res, dig_alpha = '', '0123456789ABCDEFGHIJKLMNOPQRSTUVWXYZ'\n",
    "    base_func_dic = {2: lambda n: bin(n), 8: lambda n: oct(n), 16: lambda n: hex(n).upper()}\n",
    "    if to_base in base_func_dic:\n",
    "        return base_func_dic[to_base](int(num))[2:]\n",
    "    while num > 0:\n",
    "        res = str(dig_alpha[num % to_base]) + res\n",
    "        num //= to_base\n",
    "    return res\n",
    "\n",
    "def convert(num, to_base=10, from_base=10):\n",
    "    if from_base == 10:\n",
    "        num = int(num)\n",
    "    if from_base != 10:\n",
    "        num = int(str(num), base=from_base)\n",
    "        if to_base == 10:\n",
    "            return num\n",
    "    return convert_from_dec(num, to_base)\n",
    "\n",
    "convert('45', 16, 10)"
   ]
  },
  {
   "cell_type": "markdown",
   "metadata": {},
   "source": [
    "## Число Капрекара в произвольной системе счисления\n",
    "\n",
    "Например, 45 является числом Капрекара, поскольку **45^2=2025 20+25=45**\n",
    "\n",
    "Напишите функцию kaprekar(n, base=10), принимающую на вход натуральное число (int для десятичной системы счисления, либо строку для иной) и основание системы счисления, а возвращающую:\n",
    "\n",
    "* True, если число является Числом Капрекара\n",
    "* False, если число НЕ является Числом Капрекара"
   ]
  },
  {
   "cell_type": "code",
   "execution_count": 37,
   "metadata": {},
   "outputs": [
    {
     "data": {
      "text/plain": [
       "False"
      ]
     },
     "execution_count": 37,
     "metadata": {},
     "output_type": "execute_result"
    }
   ],
   "source": [
    "# Для десятичной системы счисления возвращает True если число является Числом Капрекара\n",
    "def kaprekar_dec(n):\n",
    "    sq = str(n ** 2)\n",
    "    return n in [int(sq[:i]) + int(sq[i:]) for i in range(1, len(sq)) if int(sq[i:])]\n",
    "\n",
    "def kaprekar(n, base=10):\n",
    "    if base == 10:\n",
    "        return kaprekar_dec(int(n))\n",
    "    \n",
    "    # n10 == n в 10-чной системе; sq == n ** 2 в системе base\n",
    "    n10 = convert(n, to_base=10, from_base=base)\n",
    "    sq = convert(n10 ** 2, to_base=base, from_base=10)\n",
    "    \n",
    "    for i in range(1, len(sq)):\n",
    "        a = convert(sq[:i], to_base=10, from_base=base)\n",
    "        b = convert(sq[i:], to_base=10, from_base=base)\n",
    "        #print(f\"a = {a} == {sq[:i]}; b = {b} = {sq[i:]}\")\n",
    "        if b and a + b == n10:\n",
    "            return True\n",
    "    return False\n",
    "    \n",
    "kaprekar(\"785\", base=10)"
   ]
  }
 ],
 "metadata": {
  "kernelspec": {
   "display_name": "Python 3",
   "language": "python",
   "name": "python3"
  },
  "language_info": {
   "codemirror_mode": {
    "name": "ipython",
    "version": 3
   },
   "file_extension": ".py",
   "mimetype": "text/x-python",
   "name": "python",
   "nbconvert_exporter": "python",
   "pygments_lexer": "ipython3",
   "version": "3.8.3"
  }
 },
 "nbformat": 4,
 "nbformat_minor": 4
}
