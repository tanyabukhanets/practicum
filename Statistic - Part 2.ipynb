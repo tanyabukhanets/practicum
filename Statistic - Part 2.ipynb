{
 "cells": [
  {
   "cell_type": "code",
   "execution_count": 1,
   "metadata": {},
   "outputs": [],
   "source": [
    "from statsmodels.graphics.mosaicplot import mosaic\n",
    "from itertools import product\n",
    "import matplotlib.pyplot as plt\n",
    "import seaborn as sns\n",
    "import pandas as pd\n",
    "from scipy.stats import chi2_contingency\n",
    "import matplotlib.patches as mpatches\n",
    "import numpy as np\n",
    "from numpy import linalg \n",
    "\n",
    "from numpy.random import randint\n",
    "from scipy.stats import chisquare\n",
    "from scipy.stats.contingency import expected_freq\n",
    "from itertools import product\n",
    "from statsmodels.graphics.mosaicplot import mosaic\n",
    "from sklearn import datasets\n",
    "from scipy.cluster.hierarchy import linkage, fcluster, dendrogram\n"
   ]
  },
  {
   "cell_type": "markdown",
   "metadata": {},
   "source": [
    "# Расстояние Пирсона"
   ]
  },
  {
   "cell_type": "markdown",
   "metadata": {},
   "source": [
    "В рассмотренном примере мы полагали, что распределение ожидаемых частот является равномерным. Но ничто не мешает нам задать более интересное ожидаемое распределение частот! Рассмотрим такую ситуацию:\n",
    "\n",
    "Монах Грегор Иоганн выращивал горох трех цветов (бедняга надеялся, что это поможет ему сделать важное открытие).  \n",
    "В одном из опытов эмпирическое распределение частот некоторого цвета гороха приняло следующий вид:\n",
    "\n",
    "18,55,27 18, 55, 27 18,55,27\n",
    "\n",
    "\n",
    "Предполагаемое теоретическое распределение — 1:2:1 1 : 2 : 1 1:2:1.\n",
    "\n",
    "**Рассчитайте расстояние хи-квадрат**"
   ]
  },
  {
   "cell_type": "code",
   "execution_count": 2,
   "metadata": {},
   "outputs": [
    {
     "data": {
      "text/plain": [
       "Power_divergenceResult(statistic=2.62, pvalue=0.26982005638468687)"
      ]
     },
     "execution_count": 2,
     "metadata": {},
     "output_type": "execute_result"
    }
   ],
   "source": [
    "from scipy.stats import chisquare\n",
    "chisquare([18, 55, 27], f_exp=[25, 50, 25])"
   ]
  },
  {
   "cell_type": "markdown",
   "metadata": {},
   "source": [
    "## Распределение Хи-квадрат Пирсона"
   ]
  },
  {
   "cell_type": "markdown",
   "metadata": {},
   "source": [
    "\n",
    "\n",
    "Ваши ставки! Как будет выглядеть распределение расстояния хи-квадрат в нашем эксперименте с монеткой при многократном повторении эксперимента (при условии, что верна нулевая гипотеза). \n",
    "\n",
    "Представьте, что мы при каждом повторении эксперимента рассчитываем расстояние хи - квадрат и в итоге строим гистограмму получившихся значений.\n"
   ]
  },
  {
   "cell_type": "code",
   "execution_count": 3,
   "metadata": {},
   "outputs": [
    {
     "data": {
      "image/png": "[encoded data removed]",
      "text/plain": [
       "<Figure size 864x432 with 1 Axes>"
      ]
     },
     "metadata": {
      "needs_background": "light"
     },
     "output_type": "display_data"
    }
   ],
   "source": [
    "from numpy.random import randint\n",
    "from scipy.stats import chisquare\n",
    "import matplotlib.pyplot as plt\n",
    "import pandas as pd\n",
    "\n",
    "# N - number_of_throws\n",
    "N, number_of_experiments = 60, 100\n",
    "fig, ax = plt.subplots()\n",
    "#Массив значений Хи-квадрат\n",
    "chisquare_values = []\n",
    "\n",
    "for _ in range(number_of_experiments):\n",
    "    res = list(randint(0, 2, N))\n",
    "    chisquare_values.append(chisquare([res.count(1), res.count(0)], f_exp=[N / 2, N / 2]).statistic)\n",
    "\n",
    "ax.hist(chisquare_values)   \n",
    "fig.set_figwidth(12)\n",
    "fig.set_figheight(6)\n",
    "\n",
    "plt.show()"
   ]
  },
  {
   "cell_type": "code",
   "execution_count": 29,
   "metadata": {},
   "outputs": [
    {
     "data": {
      "text/plain": [
       "Power_divergenceResult(statistic=5.0, pvalue=0.4158801869955079)"
      ]
     },
     "execution_count": 29,
     "metadata": {},
     "output_type": "execute_result"
    }
   ],
   "source": [
    "scipy.stats.chisquare(f_obs=[10, 10, 10, 5, 10, 15], f_exp=[10, 10, 10, 10, 10, 10])"
   ]
  },
  {
   "cell_type": "markdown",
   "metadata": {},
   "source": [
    "### В таблице представлены результаты эксперимента, направленного на проверку гипотезы о взаимосвязи двух номинативных переменных с двумя градациями. Рассчитайте ожидаемые частоты для проверки нулевой гипотезы о независимости двух переменных X и Y."
   ]
  },
  {
   "cell_type": "code",
   "execution_count": 33,
   "metadata": {},
   "outputs": [
    {
     "data": {
      "text/plain": [
       "array([[ 6.66666667,  9.33333333],\n",
       "       [ 8.33333333, 11.66666667]])"
      ]
     },
     "execution_count": 33,
     "metadata": {},
     "output_type": "execute_result"
    }
   ],
   "source": [
    "from scipy.stats.contingency import expected_freq\n",
    "expected_freq(([10, 6], [5, 15]))"
   ]
  },
  {
   "cell_type": "markdown",
   "metadata": {},
   "source": []
  },
  {
   "cell_type": "markdown",
   "metadata": {},
   "source": [
    "# mosaicplot "
   ]
  },
  {
   "cell_type": "markdown",
   "metadata": {},
   "source": [
    "Разберемся, как здесь отображены наши данные. Ширина и высота каждого прямоугольника пропорциональны наблюдаемым частотам в соответствующих строках и столбцах. Цвет прямоугольника показывает величину стандартизированного остатка; если она по модулю больше 2, то прямоугольник будет полупрозрачным, если больше 4, то соответствующий прямоугольник будет закрашен.\n",
    "\n",
    "**Итого:**\n",
    "- размер прямоугольников  соответствует количеству наблюдений.\n",
    "- цвет прямоугольников - величине значимости отклонения ожидаемых и наблюдаемых частот в этой ячейке.\n",
    "- если значения стандартизированных остатков больше 3х, можно считать, что в этой ячейке зафиксированы значимые отклонения."
   ]
  },
  {
   "cell_type": "code",
   "execution_count": 14,
   "metadata": {},
   "outputs": [
    {
     "data": {
      "image/png": "[encoded data removed]",
      "text/plain": [
       "<Figure size 720x720 with 3 Axes>"
      ]
     },
     "metadata": {
      "needs_background": "light"
     },
     "output_type": "display_data"
    }
   ],
   "source": [
    "from itertools import product\n",
    "import pandas as pd\n",
    "import matplotlib.pyplot as plt\n",
    "from statsmodels.graphics.mosaicplot import mosaic\n",
    "\n",
    "tuples = list(product(['Placebo', 'Aspirine'], ['Yes', 'No']))\n",
    "index = pd.MultiIndex.from_tuples(tuples)\n",
    "data = pd.Series([18,7,6,13], index=index)\n",
    "fig, rect = mosaic(data, title='hierarchical index series')\n",
    "fig.set_size_inches(10, 10)\n",
    "plt.show()"
   ]
  },
  {
   "cell_type": "markdown",
   "metadata": {},
   "source": [
    "## 2й способ - с разными цветами, в зависимости от величины остатков"
   ]
  },
  {
   "cell_type": "code",
   "execution_count": 29,
   "metadata": {},
   "outputs": [],
   "source": [
    "# Удивился, что нет полноценного аналога в Python, реализовал небольшую функцию на основе mosaic.\n",
    "# На вход достаточно подать ей Series с двумя уровнями в Index\n",
    "\n",
    "# Импорт необходимых модулей\n",
    "from statsmodels.graphics.mosaicplot import mosaic\n",
    "from itertools import product\n",
    "import matplotlib.pyplot as plt\n",
    "import seaborn as sns\n",
    "import pandas as pd\n",
    "from scipy.stats import chi2_contingency\n",
    "import matplotlib.patches as mpatches\n",
    "import numpy as np\n",
    "\n",
    "def make_me_plot(data):\n",
    "    # Проводим анализ таблиц сопряженности\n",
    "    data = data.copy()\n",
    "    obs = data.unstack().T.values\n",
    "    chi, pval, dof, est = chi2_contingency(obs)\n",
    "    remains = (obs - est)  / np.sqrt(est)\n",
    "    \n",
    "    # Присваиваем соответствующие цвета\n",
    "    hex_colors = sns.color_palette(\"coolwarm\", 6).as_hex()\n",
    "    color_labels = ['<-4', '-4:-2', '-2:0', '0:2', '2:4', '>4'][::-1]\n",
    "    colors = pd.Series([x  for x in remains.ravel()], index=data.index, name='color')\n",
    "    valrange = np.array([-np.inf, -4, -2, 0, 2, 4, np.inf])\n",
    "    color_prop = {k: {'color' : hex_colors[np.argmax(v < valrange) - 1]}  for k, v in colors.iteritems()}\n",
    "    patches = [mpatches.Patch(color=c, label=l) for c, l in zip(hex_colors, color_labels)]\n",
    "    \n",
    "    # Передаем все данные matplotlib\n",
    "    fig, ax = plt.subplots()\n",
    "    fig.set_size_inches(8, 10)\n",
    "    mosaic(data, gap=.02, properties=color_prop, ax=ax, labelizer= lambda x: '')\n",
    "    fig.legend(handles=patches, bbox_to_anchor=(0.6, 0., 0.5, 0.5))"
   ]
  },
  {
   "cell_type": "code",
   "execution_count": 30,
   "metadata": {},
   "outputs": [
    {
     "data": {
      "image/png": "[encoded data removed]",
      "text/plain": [
       "<Figure size 576x720 with 3 Axes>"
      ]
     },
     "metadata": {
      "needs_background": "light"
     },
     "output_type": "display_data"
    }
   ],
   "source": [
    "cure = ['Placebo', 'Aspirine']\n",
    "effect = ['Normal', 'Trombosis']\n",
    "idx = pd.MultiIndex.from_tuples(product(cure, effect))\n",
    "data = pd.Series([7, 13, 18, 6], index=idx)\n",
    "\n",
    "make_me_plot(data)"
   ]
  },
  {
   "cell_type": "markdown",
   "metadata": {},
   "source": [
    "# ПРАКТИКА - МОДУЛЬ 1"
   ]
  },
  {
   "cell_type": "markdown",
   "metadata": {},
   "source": [
    "# 1"
   ]
  },
  {
   "cell_type": "markdown",
   "metadata": {},
   "source": [
    "Напишите функцию smart_test, которая получает на вход dataframe с двумя номинативными переменными с произвольным числом градаций. Функция должна проверять гипотезу о независимости этих двух переменных при помощи критерия хи - квадрат или точного критерия Фишера.\n",
    "\n",
    "Если хотя бы в одной ячейке таблицы сопряженности двух переменных меньше 5 наблюдений, функция должна рассчитывать точный критерий Фишера и возвращать вектор из одного элемента: получившегося p - уровня значимости.\n",
    "\n",
    "Если наблюдений достаточно для расчета хи-квадрат (во всех ячейках больше либо равно 5 наблюдений), тогда функция должна применять критерий хи-квадрат и возвращать вектор из трех элементов: значение хи-квадрат, число степеней свободы,  p-уровня значимости. "
   ]
  },
  {
   "cell_type": "code",
   "execution_count": 96,
   "metadata": {},
   "outputs": [
    {
     "name": "stdout",
     "output_type": "stream",
     "text": [
      "[0.039970459902635674]\n"
     ]
    }
   ],
   "source": [
    "# Т.к. в Python можно посчитать точный критерий Фишера ТОЛЬКО для таблицы 2х2,\n",
    "# я решила не плыть против течения и добавить также размер 2х2 как обязательное условие.\n",
    "# Иначе - считаем Критерий Хи-квадрат\n",
    "\n",
    "import pandas as pd\n",
    "from scipy.stats import chi2_contingency\n",
    "from scipy.stats import fisher_exact\n",
    "import numpy as np\n",
    "\n",
    "def smart_test(data):\n",
    "    data = data.T.values\n",
    "    if data.shape == (2, 2) and is_Fishers_exact_test(data):\n",
    "        oddsratio, pvalue = fisher_exact(data)\n",
    "        return [pvalue]\n",
    "    chi2, df, p, expected = chi2_contingency(data)\n",
    "    return [chi2, df, p]\n",
    "\n",
    "def is_Fishers_exact_test(data):\n",
    "    for row in data:\n",
    "        for cell in row:\n",
    "            if cell < 5:\n",
    "                return True\n",
    "    return False\n",
    "\n",
    "data = pd.DataFrame(data={'male': [20, 4], 'female': [15, 12]})\n",
    "print(smart_test(data))"
   ]
  },
  {
   "cell_type": "markdown",
   "metadata": {},
   "source": [
    "# 2"
   ]
  },
  {
   "cell_type": "markdown",
   "metadata": {},
   "source": [
    "Почувствуй себя биоинформатиком!  Вся наследственная информация в живых организмах хранится внутри молекулы ДНК. Эта молекула состоит из последовательности четырех \"букв\" — ﻿A, T, G и C. \n",
    "\n",
    "Напишите функцию most_significant, которая получает на вход dataframe с произвольным количеством переменных, где каждая переменная это нуклеотидная последовательность. "
   ]
  },
  {
   "cell_type": "code",
   "execution_count": null,
   "metadata": {},
   "outputs": [],
   "source": [
    " V1 V2 V3\n",
    "1  A  A  C\n",
    "2  G  G  A\n",
    "3  C  C  C\n",
    "4  T  T  A\n",
    "5  G  T  T\n",
    "6  T  A  G"
   ]
  },
  {
   "cell_type": "markdown",
   "metadata": {},
   "source": [
    "В этом примере три последовательности  V1 , V2, V3. \n",
    "\n",
    "Для каждой переменной мы можем проверить нулевую гипотезу о том, что все нуклеотиды (A, T, G, C) встречаются равновероятно внутри этой последовательности. Однако, возможно, что в некоторых последовательностях распределение частоты встречаемости каждого нуклеотида отличается от равномерного.\n",
    "\n",
    "Функция должна возвращать вектор с ﻿названием переменной (или переменных), в которой был получен минимальный p - уровень значимости при проверке гипотезы о равномерном распределении нуклеотидов при помощи критерия хи - квадрат. "
   ]
  },
  {
   "cell_type": "code",
   "execution_count": 129,
   "metadata": {},
   "outputs": [
    {
     "data": {
      "text/plain": [
       "['V3']"
      ]
     },
     "execution_count": 129,
     "metadata": {},
     "output_type": "execute_result"
    }
   ],
   "source": [
    "from scipy.stats import chisquare\n",
    "\n",
    "from_csv = pd.read_csv(\"https://stepic.org/media/attachments/course/524/test_data.csv\")\n",
    "\n",
    "def most_significant(df):\n",
    "    # приведем DataFrame в удобный вид: {'V1': [6, 7, 10, 7], 'V2': [6, 9, 10, 5], ...}\n",
    "    data = reshape_df(df)\n",
    "    # Посчитаем критерий Хи-квадрат для каждого из векторов и запишем его pvalue в Dictionary\n",
    "    res = {key: chisquare(val).pvalue for key, val in data.items()}\n",
    "    min_pvalue = min(res.values())\n",
    "    # return all vector names with min pvalue\n",
    "    return [key for key, val in res.items() if val == min_pvalue]\n",
    "\n",
    "def reshape_df(from_csv):\n",
    "    data = {}\n",
    "    for col_name in from_csv:\n",
    "        col = from_csv.groupby([col_name]).count().unstack()[:4][:]\n",
    "        dnk = [cell for cell in col]\n",
    "        data[col_name] = dnk\n",
    "    return data\n",
    "\n",
    "most_significant(from_csv)"
   ]
  },
  {
   "cell_type": "markdown",
   "metadata": {},
   "source": [
    "# 3"
   ]
  },
  {
   "cell_type": "markdown",
   "metadata": {},
   "source": [
    "В лекциях я говорил, что иногда возникает необходимость перекодировать количественную переменную в номинативную. Однако зачастую мы можем создавать новую номинативную переменную, комбинируя значения нескольких количественных переменных. Рассмотрим такой пример.\n",
    "\n",
    "Воспользуемся встроенными в R данными Iris. Они сразу доступны для работы. Если вы не знакомы с историей этого набора данных, вызовите справку:\n",
    "\n",
    "?iris \n",
    "\n",
    "Создайте новую переменную important_cases - фактор с двумя градациями (\"No\" и \"Yes\"). Переменная должна принимать значение Yes, если для данного цветка значения хотя бы трех количественных переменных выше среднего. В противном случае переменная important_cases  будет принимать значение No.\n",
    "\n",
    "Таким образом, если хотя бы три переменные превышают среднее значение по выборке, тогда  значение переменной important_cases будет \"Yes\".\n",
    "\n",
    "Что должно получиться:\n",
    "\n",
    "> table(iris$important_cases)\n",
    " No Yes \n",
    " 81  69 "
   ]
  },
  {
   "cell_type": "code",
   "execution_count": 150,
   "metadata": {},
   "outputs": [
    {
     "data": {
      "text/html": [
       "<div>\n",
       "<style scoped>\n",
       "    .dataframe tbody tr th:only-of-type {\n",
       "        vertical-align: middle;\n",
       "    }\n",
       "\n",
       "    .dataframe tbody tr th {\n",
       "        vertical-align: top;\n",
       "    }\n",
       "\n",
       "    .dataframe thead th {\n",
       "        text-align: right;\n",
       "    }\n",
       "</style>\n",
       "<table border=\"1\" class=\"dataframe\">\n",
       "  <thead>\n",
       "    <tr style=\"text-align: right;\">\n",
       "      <th></th>\n",
       "      <th>metro_res</th>\n",
       "      <th>white</th>\n",
       "      <th>hs_grad</th>\n",
       "      <th>poverty</th>\n",
       "      <th>female_house</th>\n",
       "    </tr>\n",
       "  </thead>\n",
       "  <tbody>\n",
       "    <tr>\n",
       "      <th>0</th>\n",
       "      <td>55.4</td>\n",
       "      <td>71.3</td>\n",
       "      <td>79.9</td>\n",
       "      <td>14.6</td>\n",
       "      <td>14.2</td>\n",
       "    </tr>\n",
       "    <tr>\n",
       "      <th>1</th>\n",
       "      <td>65.6</td>\n",
       "      <td>70.8</td>\n",
       "      <td>90.6</td>\n",
       "      <td>8.3</td>\n",
       "      <td>10.8</td>\n",
       "    </tr>\n",
       "    <tr>\n",
       "      <th>2</th>\n",
       "      <td>88.2</td>\n",
       "      <td>87.7</td>\n",
       "      <td>83.8</td>\n",
       "      <td>13.3</td>\n",
       "      <td>11.1</td>\n",
       "    </tr>\n",
       "    <tr>\n",
       "      <th>3</th>\n",
       "      <td>52.5</td>\n",
       "      <td>81.0</td>\n",
       "      <td>80.9</td>\n",
       "      <td>18.0</td>\n",
       "      <td>12.1</td>\n",
       "    </tr>\n",
       "    <tr>\n",
       "      <th>4</th>\n",
       "      <td>94.4</td>\n",
       "      <td>77.5</td>\n",
       "      <td>81.1</td>\n",
       "      <td>12.8</td>\n",
       "      <td>12.6</td>\n",
       "    </tr>\n",
       "  </tbody>\n",
       "</table>\n",
       "</div>"
      ],
      "text/plain": [
       "   metro_res  white  hs_grad  poverty  female_house\n",
       "0       55.4   71.3     79.9     14.6          14.2\n",
       "1       65.6   70.8     90.6      8.3          10.8\n",
       "2       88.2   87.7     83.8     13.3          11.1\n",
       "3       52.5   81.0     80.9     18.0          12.1\n",
       "4       94.4   77.5     81.1     12.8          12.6"
      ]
     },
     "execution_count": 150,
     "metadata": {},
     "output_type": "execute_result"
    }
   ],
   "source": [
    "# Решаю задачу для данных по разным Штатам США\n",
    "\n",
    "data = pd.read_csv(r'C:\\Audiobooks\\ForDS\\states.csv').drop(['state'], axis=1)\n",
    "data.head()"
   ]
  },
  {
   "cell_type": "code",
   "execution_count": 171,
   "metadata": {},
   "outputs": [
    {
     "name": "stdout",
     "output_type": "stream",
     "text": [
      "{'No': 25, 'Yes': 26}\n"
     ]
    }
   ],
   "source": [
    "# Mean for each column\n",
    "mean_values = [data[row].mean() for row in data]\n",
    "# All data in Numpy format\n",
    "rows = data.values\n",
    "\n",
    "result = {'No': 0, 'Yes': 0}\n",
    "for row in rows:\n",
    "    # Сравниваем каждую запись со среднеми значениями.\n",
    "    # count_nonzero - Считаем 'True', т.е. сколько ячеек в каждой строке по значению больше, чем среднее\n",
    "    if (np.count_nonzero(row > mean_values)) >= 3:\n",
    "        result['Yes'] += 1\n",
    "    else:\n",
    "        result['No'] += 1\n",
    "\n",
    "print(result)"
   ]
  },
  {
   "cell_type": "markdown",
   "metadata": {},
   "source": [
    "# 3b"
   ]
  },
  {
   "cell_type": "markdown",
   "metadata": {},
   "source": [
    "Обобщим предыдущую задачу! Напишем функцию get_important_cases, которая принимает на вход dataframe с произвольным числом количественных переменных (гарантируется хотя бы две переменные). Функция должна возвращать dataframe с новой переменной - фактором important_cases.\n",
    "\n",
    "Переменная  important_cases принимает значение Yes, если для данного наблюдения больше половины количественных переменных имеют значения больше среднего. В противном случае переменная important_cases принимает значение No.\n",
    "\n",
    "Переменная  important_cases - фактор с двумя уровнями 0 - \"No\", 1  - \"Yes\".  То есть даже если в каком-то из тестов все наблюдения получили значения \"No\", фактор должен иметь две градации. \n",
    "\n",
    "Я написал об этой важной особенности факторов в небольшой памятке. \n",
    "\n",
    "Пример работы функции. \n",
    "\n",
    "\n",
    "> get_important_cases(test_data)\n",
    "\n",
    ">  V1 V2 V3 V4 V5 important_cases\n",
    "\n",
    ">1 16 17 25 20 16              No\n",
    "\n",
    ">2 21  7 23 22 17              No\n",
    "\n",
    ">3 18 16 27 18 19             Yes\n"
   ]
  },
  {
   "cell_type": "code",
   "execution_count": 207,
   "metadata": {},
   "outputs": [
    {
     "data": {
      "text/html": [
       "<div>\n",
       "<style scoped>\n",
       "    .dataframe tbody tr th:only-of-type {\n",
       "        vertical-align: middle;\n",
       "    }\n",
       "\n",
       "    .dataframe tbody tr th {\n",
       "        vertical-align: top;\n",
       "    }\n",
       "\n",
       "    .dataframe thead th {\n",
       "        text-align: right;\n",
       "    }\n",
       "</style>\n",
       "<table border=\"1\" class=\"dataframe\">\n",
       "  <thead>\n",
       "    <tr style=\"text-align: right;\">\n",
       "      <th></th>\n",
       "      <th>metro_res</th>\n",
       "      <th>white</th>\n",
       "      <th>hs_grad</th>\n",
       "      <th>poverty</th>\n",
       "      <th>female_house</th>\n",
       "      <th>important_cases</th>\n",
       "    </tr>\n",
       "  </thead>\n",
       "  <tbody>\n",
       "    <tr>\n",
       "      <th>0</th>\n",
       "      <td>55.4</td>\n",
       "      <td>71.3</td>\n",
       "      <td>79.9</td>\n",
       "      <td>14.6</td>\n",
       "      <td>14.2</td>\n",
       "      <td>No</td>\n",
       "    </tr>\n",
       "    <tr>\n",
       "      <th>1</th>\n",
       "      <td>65.6</td>\n",
       "      <td>70.8</td>\n",
       "      <td>90.6</td>\n",
       "      <td>8.3</td>\n",
       "      <td>10.8</td>\n",
       "      <td>No</td>\n",
       "    </tr>\n",
       "    <tr>\n",
       "      <th>2</th>\n",
       "      <td>88.2</td>\n",
       "      <td>87.7</td>\n",
       "      <td>83.8</td>\n",
       "      <td>13.3</td>\n",
       "      <td>11.1</td>\n",
       "      <td>Yes</td>\n",
       "    </tr>\n",
       "    <tr>\n",
       "      <th>3</th>\n",
       "      <td>52.5</td>\n",
       "      <td>81.0</td>\n",
       "      <td>80.9</td>\n",
       "      <td>18.0</td>\n",
       "      <td>12.1</td>\n",
       "      <td>No</td>\n",
       "    </tr>\n",
       "    <tr>\n",
       "      <th>4</th>\n",
       "      <td>94.4</td>\n",
       "      <td>77.5</td>\n",
       "      <td>81.1</td>\n",
       "      <td>12.8</td>\n",
       "      <td>12.6</td>\n",
       "      <td>Yes</td>\n",
       "    </tr>\n",
       "  </tbody>\n",
       "</table>\n",
       "</div>"
      ],
      "text/plain": [
       "   metro_res  white  hs_grad  poverty  female_house important_cases\n",
       "0       55.4   71.3     79.9     14.6          14.2              No\n",
       "1       65.6   70.8     90.6      8.3          10.8              No\n",
       "2       88.2   87.7     83.8     13.3          11.1             Yes\n",
       "3       52.5   81.0     80.9     18.0          12.1              No\n",
       "4       94.4   77.5     81.1     12.8          12.6             Yes"
      ]
     },
     "execution_count": 207,
     "metadata": {},
     "output_type": "execute_result"
    }
   ],
   "source": [
    "# Решаю задачу для данных по разным Штатам США\n",
    "\n",
    "data = pd.read_csv(r'C:\\Audiobooks\\ForDS\\states.csv').drop(['state'], axis=1)\n",
    "data.head()\n",
    "\n",
    "def get_important_cases(data):\n",
    "    # Mean for each column\n",
    "    mean_values = [data[row].mean() for row in data]\n",
    "    important_cases = []\n",
    "    half = len(mean_values) / 2\n",
    "    \n",
    "    for index, row in data.iterrows():\n",
    "        # Сравниваем каждую запись со среднеми значениями.\n",
    "        # count_nonzero - Считаем 'True', т.е. сколько ячеек в каждой строке по значению больше, чем среднее\n",
    "        if (np.count_nonzero(row > mean_values)) > half:\n",
    "            important_cases.append('Yes')\n",
    "        else:\n",
    "            important_cases.append('No')\n",
    "    data['important_cases'] = important_cases    \n",
    "    return data\n",
    "\n",
    "get_important_cases(data).head()"
   ]
  },
  {
   "cell_type": "markdown",
   "metadata": {},
   "source": [
    "# 4"
   ]
  },
  {
   "cell_type": "markdown",
   "metadata": {},
   "source": [
    "Посчитать моду"
   ]
  },
  {
   "cell_type": "code",
   "execution_count": 212,
   "metadata": {},
   "outputs": [
    {
     "data": {
      "text/plain": [
       "[1, 5, 3]"
      ]
     },
     "execution_count": 212,
     "metadata": {},
     "output_type": "execute_result"
    }
   ],
   "source": [
    "import statistics\n",
    "# возвращает первую найденную моду, даже если их больше\n",
    "statistics.mode([1, 1, 1, 2, 3, 3, 3, 4, 5])\n",
    "\n",
    "# возвращает все моды\n",
    "statistics.multimode([1, 1, 5, 2, 3, 3, 4, 5])"
   ]
  },
  {
   "cell_type": "markdown",
   "metadata": {},
   "source": [
    "# 5 стандартизированные остатки"
   ]
  },
  {
   "cell_type": "markdown",
   "metadata": {},
   "source": [
    "Доктор Пилюлькин решил вооружиться статистикой, чтобы сравнить эффективность трех лекарств! Давайте поможем ему и напишем функцию max_resid, которая получает на вход dataframe с двумя переменными: типом лекарства и результатом его применения. \n",
    "\n",
    "Drugs - фактор с тремя градациями: drug_1, drug_2, drug_3.     \n",
    "\n",
    "Result - фактор с двумя градациями: positive, negative.\n",
    "\n",
    "Функция должна находить ячейку таблицы сопряженности с максимальным  значением стандартизированного остатка и возвращать вектор из двух элементов: название строчки и столбца этой ячейки.\n",
    "\n",
    "Python не считает стандартизированные остатки. Придется их считать самим"
   ]
  },
  {
   "cell_type": "code",
   "execution_count": 221,
   "metadata": {},
   "outputs": [
    {
     "data": {
      "text/html": [
       "<div>\n",
       "<style scoped>\n",
       "    .dataframe tbody tr th:only-of-type {\n",
       "        vertical-align: middle;\n",
       "    }\n",
       "\n",
       "    .dataframe tbody tr th {\n",
       "        vertical-align: top;\n",
       "    }\n",
       "\n",
       "    .dataframe thead th {\n",
       "        text-align: right;\n",
       "    }\n",
       "</style>\n",
       "<table border=\"1\" class=\"dataframe\">\n",
       "  <thead>\n",
       "    <tr style=\"text-align: right;\">\n",
       "      <th></th>\n",
       "      <th>Drugs</th>\n",
       "      <th>Result</th>\n",
       "    </tr>\n",
       "  </thead>\n",
       "  <tbody>\n",
       "    <tr>\n",
       "      <th>0</th>\n",
       "      <td>drug_3</td>\n",
       "      <td>positive</td>\n",
       "    </tr>\n",
       "    <tr>\n",
       "      <th>1</th>\n",
       "      <td>drug_1</td>\n",
       "      <td>negative</td>\n",
       "    </tr>\n",
       "    <tr>\n",
       "      <th>2</th>\n",
       "      <td>drug_1</td>\n",
       "      <td>negative</td>\n",
       "    </tr>\n",
       "    <tr>\n",
       "      <th>3</th>\n",
       "      <td>drug_2</td>\n",
       "      <td>positive</td>\n",
       "    </tr>\n",
       "    <tr>\n",
       "      <th>4</th>\n",
       "      <td>drug_1</td>\n",
       "      <td>negative</td>\n",
       "    </tr>\n",
       "  </tbody>\n",
       "</table>\n",
       "</div>"
      ],
      "text/plain": [
       "    Drugs    Result\n",
       "0  drug_3  positive\n",
       "1  drug_1  negative\n",
       "2  drug_1  negative\n",
       "3  drug_2  positive\n",
       "4  drug_1  negative"
      ]
     },
     "execution_count": 221,
     "metadata": {},
     "output_type": "execute_result"
    }
   ],
   "source": [
    "data = pd.read_csv(\"https://stepic.org/media/attachments/course/524/test_drugs.csv\")\n",
    "data.head()"
   ]
  },
  {
   "cell_type": "code",
   "execution_count": 279,
   "metadata": {},
   "outputs": [
    {
     "data": {
      "text/plain": [
       "['drug_1', 'positive']"
      ]
     },
     "execution_count": 279,
     "metadata": {},
     "output_type": "execute_result"
    }
   ],
   "source": [
    "from scipy.stats import chi2_contingency\n",
    "\n",
    "def max_resid(data):\n",
    "    data['count'] = 1\n",
    "    observed = data.groupby(['Drugs', 'Result']).count().unstack()\n",
    "    \n",
    "    chi, pvalue, dof, expected = chi2_contingency(observed)\n",
    "    remains = (observed - expected) / expected ** 0.5\n",
    "    max_remain = remains.values.max()\n",
    "    res = [index + '!' + ind[:][-1] for index, row in remains.iterrows() \\\n",
    "           for ind, cell in row.items() \\\n",
    "           if max_remain == cell]\n",
    "    return res[0].split('!')\n",
    "\n",
    "max_resid(data)"
   ]
  },
  {
   "cell_type": "markdown",
   "metadata": {},
   "source": [
    "# 6 построим гистограмму частот"
   ]
  },
  {
   "cell_type": "markdown",
   "metadata": {},
   "source": [
    "Основной способ визуализировать распределение частот номинативной переменной - гистограмма частот (барплот).\n"
   ]
  },
  {
   "cell_type": "code",
   "execution_count": 292,
   "metadata": {},
   "outputs": [
    {
     "data": {
      "image/png": "[encoded data removed]",
      "text/plain": [
       "<Figure size 432x288 with 1 Axes>"
      ]
     },
     "metadata": {
      "needs_background": "light"
     },
     "output_type": "display_data"
    }
   ],
   "source": [
    "#df = df.pivot(columns='non_striker',index='batsman').fillna(0)\n",
    "#plot it\n",
    "observed.plot(kind = 'bar',legend = True)\n",
    "plt.show()"
   ]
  },
  {
   "cell_type": "code",
   "execution_count": null,
   "metadata": {},
   "outputs": [],
   "source": []
  },
  {
   "cell_type": "markdown",
   "metadata": {},
   "source": [
    "### Создайте и напечатайте (с помощью функции print) массив класса np.ndarray ширины 4 и высоты 3 с двойками на главной диагонали и единицами на первой диагонали над главной, т.е. воплощение матрицы\n",
    "(210002100021) \\begin{pmatrix}2 & 1 & 0 & 0 \\\\ 0 & 2 & 1 & 0 \\\\ 0 & 0 & 2 & 1 \\end{pmatrix} ⎝⎜⎛​200​120​012​001​⎠⎟⎞​"
   ]
  },
  {
   "cell_type": "code",
   "execution_count": 296,
   "metadata": {},
   "outputs": [
    {
     "data": {
      "text/plain": [
       "array([[2., 1., 0., 0.],\n",
       "       [0., 2., 1., 0.],\n",
       "       [0., 0., 2., 1.]])"
      ]
     },
     "execution_count": 296,
     "metadata": {},
     "output_type": "execute_result"
    }
   ],
   "source": [
    "A = 2 * np.eye(3, 4) + np.eye(3, 4, 1)\n",
    "A"
   ]
  },
  {
   "cell_type": "markdown",
   "metadata": {},
   "source": [
    "Массив, который нужно было создать в предыдущей задаче, хранится в переменной mat. Превратите его в вертикальный вектор и напечатайте."
   ]
  },
  {
   "cell_type": "code",
   "execution_count": 304,
   "metadata": {},
   "outputs": [
    {
     "name": "stdout",
     "output_type": "stream",
     "text": [
      "[[536]\n",
      " [986]\n",
      " [744]\n",
      " [543]\n",
      " [248]\n",
      " [544]\n",
      " [837]\n",
      " [235]\n",
      " [415]\n",
      " [377]\n",
      " [141]\n",
      " [751]]\n"
     ]
    }
   ],
   "source": [
    "mat = np.array([[[536, 986, 744],\n",
    "  [543, 248, 544]],\n",
    " [[837, 235, 415],\n",
    "  [377, 141, 751]]])\n",
    "mat = mat.reshape(mat.size, 1)\n",
    "print(mat)"
   ]
  },
  {
   "cell_type": "markdown",
   "metadata": {},
   "source": [
    "\n",
    "\n",
    "Теперь давайте попробуем применить наши новые матричные формулы — сначала на игрушечном примере, который мы рассматривали пару видео назад.\n",
    "\n",
    "У нас есть набор данных: знания о длине тормозного пути и скорости для трёх автомобилей.\n",
    "(DV10607501275) \\begin{pmatrix} D & V \\\\ \\hline 10 & 60 \\\\ 7 & 50 \\\\ 12 & 75\\end{pmatrix} ⎝⎜⎜⎜⎛​D10712​V605075​​⎠⎟⎟⎟⎞​\n",
    "\n",
    "Напишите через запятую оценки коэффициентов линейной регрессии \n",
    "D D D на V V V, т.е. β^0 \\hat{\\beta}_0 β^​0​, β^1 \\hat{\\beta}_1 β^​1​ для модели D=β0+β1V+ε D=\\beta_0+\\beta_1 V+\\varepsilon D=β0​+β1​V+ε с точностью до трёх знаков после точки.\n"
   ]
  },
  {
   "cell_type": "code",
   "execution_count": 310,
   "metadata": {},
   "outputs": [
    {
     "data": {
      "text/plain": [
       "array([[-2.34210526],\n",
       "       [ 0.19473684]])"
      ]
     },
     "execution_count": 310,
     "metadata": {},
     "output_type": "execute_result"
    }
   ],
   "source": [
    "# Beta = (X.T * X) ** (-1) * X.T * Y\n",
    "\n",
    "from numpy import linalg\n",
    "# Добавляем в Х первый столбец единиц - за бетта нулевое\n",
    "X = np.array([[1, 60],\n",
    "             [1, 50],\n",
    "             [1, 75]])\n",
    "Y = np.array([[10], [7], [12]])\n",
    "step1 = np.dot(X.T, X)\n",
    "step2 = linalg.inv(step1)\n",
    "step3 = np.dot(step2, X.T)\n",
    "Beta = np.dot(step3, Y)\n",
    "Beta"
   ]
  },
  {
   "cell_type": "markdown",
   "metadata": {},
   "source": [
    "# Лин. регрессия (др. курс)"
   ]
  },
  {
   "cell_type": "markdown",
   "metadata": {},
   "source": [
    "Найдите оптимальные коэффициенты для построения линейной регрессии.\n",
    "\n",
    "Ваша задача — подсчитать вектор коэффициентов линейной регрессии для предсказания первой переменной (первого столбца данных) по всем остальным. Напомним, что модель линейной регрессии — это y=β0+β1x1+⋯+βnxn y = \\beta_0 + \\beta_1 x_1 + \\cdots + \\beta_n x_n y=β0​+β1​x1​+⋯+βn​xn​.\n",
    "\n",
    "Напечатайте коэффициенты линейной регрессии, начиная с β0 \\beta_0 β0​, через пробел. Мы будем проверять совпадения с точностью до 4 знаков после запятой."
   ]
  },
  {
   "cell_type": "code",
   "execution_count": 350,
   "metadata": {},
   "outputs": [
    {
     "data": {
      "text/html": [
       "<div>\n",
       "<style scoped>\n",
       "    .dataframe tbody tr th:only-of-type {\n",
       "        vertical-align: middle;\n",
       "    }\n",
       "\n",
       "    .dataframe tbody tr th {\n",
       "        vertical-align: top;\n",
       "    }\n",
       "\n",
       "    .dataframe thead th {\n",
       "        text-align: right;\n",
       "    }\n",
       "</style>\n",
       "<table border=\"1\" class=\"dataframe\">\n",
       "  <thead>\n",
       "    <tr style=\"text-align: right;\">\n",
       "      <th></th>\n",
       "      <th>medv</th>\n",
       "      <th>crim</th>\n",
       "      <th>zn</th>\n",
       "      <th>chas</th>\n",
       "      <th>nox</th>\n",
       "      <th>rm</th>\n",
       "      <th>dis</th>\n",
       "    </tr>\n",
       "  </thead>\n",
       "  <tbody>\n",
       "    <tr>\n",
       "      <th>0</th>\n",
       "      <td>24.0</td>\n",
       "      <td>0.00632</td>\n",
       "      <td>18.0</td>\n",
       "      <td>0</td>\n",
       "      <td>0.538</td>\n",
       "      <td>6.575</td>\n",
       "      <td>4.0900</td>\n",
       "    </tr>\n",
       "    <tr>\n",
       "      <th>1</th>\n",
       "      <td>21.6</td>\n",
       "      <td>0.02731</td>\n",
       "      <td>0.0</td>\n",
       "      <td>0</td>\n",
       "      <td>0.469</td>\n",
       "      <td>6.421</td>\n",
       "      <td>4.9671</td>\n",
       "    </tr>\n",
       "    <tr>\n",
       "      <th>2</th>\n",
       "      <td>34.7</td>\n",
       "      <td>0.02729</td>\n",
       "      <td>0.0</td>\n",
       "      <td>0</td>\n",
       "      <td>0.469</td>\n",
       "      <td>7.185</td>\n",
       "      <td>4.9671</td>\n",
       "    </tr>\n",
       "    <tr>\n",
       "      <th>3</th>\n",
       "      <td>33.4</td>\n",
       "      <td>0.03237</td>\n",
       "      <td>0.0</td>\n",
       "      <td>0</td>\n",
       "      <td>0.458</td>\n",
       "      <td>6.998</td>\n",
       "      <td>6.0622</td>\n",
       "    </tr>\n",
       "    <tr>\n",
       "      <th>4</th>\n",
       "      <td>36.2</td>\n",
       "      <td>0.06905</td>\n",
       "      <td>0.0</td>\n",
       "      <td>0</td>\n",
       "      <td>0.458</td>\n",
       "      <td>7.147</td>\n",
       "      <td>6.0622</td>\n",
       "    </tr>\n",
       "  </tbody>\n",
       "</table>\n",
       "</div>"
      ],
      "text/plain": [
       "   medv     crim    zn  chas    nox     rm     dis\n",
       "0  24.0  0.00632  18.0     0  0.538  6.575  4.0900\n",
       "1  21.6  0.02731   0.0     0  0.469  6.421  4.9671\n",
       "2  34.7  0.02729   0.0     0  0.469  7.185  4.9671\n",
       "3  33.4  0.03237   0.0     0  0.458  6.998  6.0622\n",
       "4  36.2  0.06905   0.0     0  0.458  7.147  6.0622"
      ]
     },
     "execution_count": 350,
     "metadata": {},
     "output_type": "execute_result"
    }
   ],
   "source": [
    "import pandas as pd\n",
    "data = pd.read_csv(r'https://stepic.org/media/attachments/lesson/16462/boston_houses.csv')\n",
    "data.head()"
   ]
  },
  {
   "cell_type": "code",
   "execution_count": 356,
   "metadata": {},
   "outputs": [
    {
     "name": "stdout",
     "output_type": "stream",
     "text": [
      "-3.6558 -0.2164 0.07373 4.41245 -25.46845 7.1432 -1.30109\n"
     ]
    },
    {
     "data": {
      "text/plain": [
       "0      24.0\n",
       "1      21.6\n",
       "2      34.7\n",
       "3      33.4\n",
       "4      36.2\n",
       "       ... \n",
       "501    22.4\n",
       "502    20.6\n",
       "503    23.9\n",
       "504    22.0\n",
       "505    11.9\n",
       "Name: medv, Length: 506, dtype: float64"
      ]
     },
     "execution_count": 356,
     "metadata": {},
     "output_type": "execute_result"
    }
   ],
   "source": [
    "from numpy import linalg\n",
    "\n",
    "Y = data['medv']\n",
    "X = data.copy()\n",
    "X['medv'] = 1\n",
    "X = X.values\n",
    "#np.vstack((Y, X))\n",
    "\n",
    "step1 = linalg.inv(np.dot(X.T, X))\n",
    "step2 = np.dot(step1, X.T)\n",
    "result = np.around(np.dot(step2, Y), decimals = 5)\n",
    "print(*result)\n",
    "\n",
    "Y"
   ]
  },
  {
   "cell_type": "markdown",
   "metadata": {},
   "source": [
    "# ПРАКТИКА - МОДУЛЬ 2"
   ]
  },
  {
   "cell_type": "markdown",
   "metadata": {},
   "source": [
    "## 1"
   ]
  },
  {
   "cell_type": "markdown",
   "metadata": {},
   "source": [
    "Начнем с простого и вспомним, как применять логистическую регрессию в R. Напишите функцию get_coefficients, которая получает на вход dataframe с двумя переменными x ( фактор с произвольным числом градаций) и y ( фактор с двумя градациями ﻿). Функция строит логистическую модель, где y — зависимая переменная, а x — независимая, и возвращает вектор со значением экспоненты коэффициентов модели. "
   ]
  },
  {
   "cell_type": "code",
   "execution_count": 2,
   "metadata": {
    "scrolled": true
   },
   "outputs": [
    {
     "data": {
      "text/html": [
       "<div>\n",
       "<style scoped>\n",
       "    .dataframe tbody tr th:only-of-type {\n",
       "        vertical-align: middle;\n",
       "    }\n",
       "\n",
       "    .dataframe tbody tr th {\n",
       "        vertical-align: top;\n",
       "    }\n",
       "\n",
       "    .dataframe thead th {\n",
       "        text-align: right;\n",
       "    }\n",
       "</style>\n",
       "<table border=\"1\" class=\"dataframe\">\n",
       "  <thead>\n",
       "    <tr style=\"text-align: right;\">\n",
       "      <th></th>\n",
       "      <th>x</th>\n",
       "      <th>y</th>\n",
       "    </tr>\n",
       "  </thead>\n",
       "  <tbody>\n",
       "    <tr>\n",
       "      <th>0</th>\n",
       "      <td>1</td>\n",
       "      <td>1</td>\n",
       "    </tr>\n",
       "    <tr>\n",
       "      <th>1</th>\n",
       "      <td>3</td>\n",
       "      <td>1</td>\n",
       "    </tr>\n",
       "    <tr>\n",
       "      <th>2</th>\n",
       "      <td>1</td>\n",
       "      <td>1</td>\n",
       "    </tr>\n",
       "    <tr>\n",
       "      <th>3</th>\n",
       "      <td>1</td>\n",
       "      <td>2</td>\n",
       "    </tr>\n",
       "    <tr>\n",
       "      <th>4</th>\n",
       "      <td>2</td>\n",
       "      <td>2</td>\n",
       "    </tr>\n",
       "  </tbody>\n",
       "</table>\n",
       "</div>"
      ],
      "text/plain": [
       "   x  y\n",
       "0  1  1\n",
       "1  3  1\n",
       "2  1  1\n",
       "3  1  2\n",
       "4  2  2"
      ]
     },
     "execution_count": 2,
     "metadata": {},
     "output_type": "execute_result"
    }
   ],
   "source": [
    "import pandas as pd\n",
    "data = pd.read_csv(r'https://stepik.org/media/attachments/course/524/test_data_01.csv')\n",
    "data.head()"
   ]
  },
  {
   "cell_type": "code",
   "execution_count": 141,
   "metadata": {},
   "outputs": [
    {
     "name": "stdout",
     "output_type": "stream",
     "text": [
      "                 Generalized Linear Model Regression Results                  \n",
      "==============================================================================\n",
      "Dep. Variable:                      y   No. Observations:                   50\n",
      "Model:                            GLM   Df Residuals:                       47\n",
      "Model Family:                Binomial   Df Model:                            2\n",
      "Link Function:                  logit   Scale:                          1.0000\n",
      "Method:                          IRLS   Log-Likelihood:                -32.570\n",
      "Date:                Thu, 07 Jan 2021   Deviance:                       65.139\n",
      "Time:                        19:51:37   Pearson chi2:                     50.0\n",
      "No. Iterations:                     4                                         \n",
      "Covariance Type:            nonrobust                                         \n",
      "==============================================================================\n",
      "                 coef    std err          z      P>|z|      [0.025      0.975]\n",
      "------------------------------------------------------------------------------\n",
      "Intercept      0.1054      0.459      0.229      0.819      -0.795       1.006\n",
      "C(x)[T.2]     -0.9320      0.645     -1.444      0.149      -2.197       0.333\n",
      "C(x)[T.3]      0.4055      0.863      0.470      0.638      -1.286       2.097\n",
      "==============================================================================\n"
     ]
    },
    {
     "data": {
      "text/plain": [
       "[1.111154983468545, 0.39376539153247, 1.500052338750847]"
      ]
     },
     "execution_count": 141,
     "metadata": {},
     "output_type": "execute_result"
    }
   ],
   "source": [
    "import statsmodels.formula.api as sf\n",
    "import statsmodels.api as sm\n",
    "import math\n",
    "\n",
    "def get_coefficients(data):\n",
    "    # для удобства примем значение y=1 за положительный исход, а y=2 за отрицательный, \n",
    "    # и подставим на место 2 значение y=0\n",
    "    data.y[data.y == 2] = 0\n",
    "    data['count'] = 0\n",
    "    data.groupby(['y', 'x']).count().unstack().unstack().unstack()\n",
    "\n",
    "    # Применим логистическую регрессию\n",
    "    logit_res = sf.glm('y ~ C(x)', data, family=sm.families.Binomial()).fit()\n",
    "    print(logit_res.summary())\n",
    "    return [math.exp(float(str(logit_res.summary().tables[1][i][1]))) for i in range(1, 4)]\n",
    "\n",
    "get_coefficients(data)"
   ]
  },
  {
   "cell_type": "code",
   "execution_count": 138,
   "metadata": {},
   "outputs": [
    {
     "data": {
      "text/plain": [
       "array([1.22239809, 1.02293548])"
      ]
     },
     "execution_count": 138,
     "metadata": {},
     "output_type": "execute_result"
    }
   ],
   "source": [
    "# Чужой вариант решения. ОТветы у нас не совпадают\n",
    "\n",
    "from sklearn.linear_model import LogisticRegression\n",
    "data = pd.read_csv(r'https://stepik.org/media/attachments/course/524/test_data_01.csv')\n",
    "\n",
    "def get_coeff(df):\n",
    "    # Considering last column is the target column\n",
    "    X = df.drop(columns=df.columns[-1])\n",
    "    y = df[df.columns[-1]]\n",
    "    model = LogisticRegression()\n",
    "    model.fit(X, y)\n",
    "    coef = np.r_[math.exp(model.intercept_), math.exp(model.coef_.flatten())]\n",
    "    return coef\n",
    "get_coeff(data)"
   ]
  },
  {
   "cell_type": "markdown",
   "metadata": {},
   "source": [
    "## 2 центрировать переменную"
   ]
  },
  {
   "cell_type": "markdown",
   "metadata": {},
   "source": [
    "Если в нашей модели есть количественные предикторы, то в интерцепте мы будем иметь значение, соответствующее базовому уровню категориальных предикторов и нулевому уровню количественных. Это не всегда осмысленно. Например, нам не интересен прогноз для людей нулевого возраста или роста. В таких ситуациях количественную переменную имеет смысл предварительно центрировать так, чтобы ноль являлся средним значением переменной. Самый простой способ центрировать переменную — отнять от каждого наблюдения среднее значение всех наблюдений.\n",
    "\n",
    "xcenteredi=xi−xˉ xcentered_{i}= x_{i} - \\bar{x} xcenteredi​=xi​−xˉ \n",
    "\n",
    "В этом задании вашей задачей будет  написать функцию centered, которая получает на вход датафрейм и имена переменных, которые необходимо центрировать так, как это описано выше. Функция должна возвращать этот же датафрейм, только с центрированными указанными переменными."
   ]
  },
  {
   "cell_type": "code",
   "execution_count": 128,
   "metadata": {},
   "outputs": [
    {
     "name": "stdout",
     "output_type": "stream",
     "text": [
      "     X1    X2    X3    X4\n",
      "0   8.5   9.7  10.7  10.3\n",
      "1   8.1  12.8   9.7  12.6\n",
      "2   9.6   7.4   8.4  12.7\n",
      "3   9.6  10.9   7.7   8.0\n",
      "4  11.9  13.7  12.3  11.0\n"
     ]
    },
    {
     "data": {
      "text/html": [
       "<div>\n",
       "<style scoped>\n",
       "    .dataframe tbody tr th:only-of-type {\n",
       "        vertical-align: middle;\n",
       "    }\n",
       "\n",
       "    .dataframe tbody tr th {\n",
       "        vertical-align: top;\n",
       "    }\n",
       "\n",
       "    .dataframe thead th {\n",
       "        text-align: right;\n",
       "    }\n",
       "</style>\n",
       "<table border=\"1\" class=\"dataframe\">\n",
       "  <thead>\n",
       "    <tr style=\"text-align: right;\">\n",
       "      <th></th>\n",
       "      <th>X1</th>\n",
       "      <th>X2</th>\n",
       "      <th>X3</th>\n",
       "      <th>X4</th>\n",
       "    </tr>\n",
       "  </thead>\n",
       "  <tbody>\n",
       "    <tr>\n",
       "      <th>0</th>\n",
       "      <td>8.5</td>\n",
       "      <td>-1.2</td>\n",
       "      <td>10.7</td>\n",
       "      <td>-0.62</td>\n",
       "    </tr>\n",
       "    <tr>\n",
       "      <th>1</th>\n",
       "      <td>8.1</td>\n",
       "      <td>1.9</td>\n",
       "      <td>9.7</td>\n",
       "      <td>1.68</td>\n",
       "    </tr>\n",
       "    <tr>\n",
       "      <th>2</th>\n",
       "      <td>9.6</td>\n",
       "      <td>-3.5</td>\n",
       "      <td>8.4</td>\n",
       "      <td>1.78</td>\n",
       "    </tr>\n",
       "    <tr>\n",
       "      <th>3</th>\n",
       "      <td>9.6</td>\n",
       "      <td>0.0</td>\n",
       "      <td>7.7</td>\n",
       "      <td>-2.92</td>\n",
       "    </tr>\n",
       "    <tr>\n",
       "      <th>4</th>\n",
       "      <td>11.9</td>\n",
       "      <td>2.8</td>\n",
       "      <td>12.3</td>\n",
       "      <td>0.08</td>\n",
       "    </tr>\n",
       "  </tbody>\n",
       "</table>\n",
       "</div>"
      ],
      "text/plain": [
       "     X1   X2    X3    X4\n",
       "0   8.5 -1.2  10.7 -0.62\n",
       "1   8.1  1.9   9.7  1.68\n",
       "2   9.6 -3.5   8.4  1.78\n",
       "3   9.6  0.0   7.7 -2.92\n",
       "4  11.9  2.8  12.3  0.08"
      ]
     },
     "execution_count": 128,
     "metadata": {},
     "output_type": "execute_result"
    }
   ],
   "source": [
    "import pandas as pd\n",
    "var_names = [\"X4\", \"X2\"]\n",
    "data = pd.read_csv(r'https://stepic.org/media/attachments/course/524/cen_data.csv')\n",
    "print(data)\n",
    "def centered(data, var_names):\n",
    "    mean_val = data[var_names].mean()\n",
    "    data[var_names] -= mean_val \n",
    "    return data\n",
    "centered(data, var_names)"
   ]
  },
  {
   "cell_type": "markdown",
   "metadata": {},
   "source": [
    "# 3"
   ]
  },
  {
   "cell_type": "markdown",
   "metadata": {},
   "source": [
    "Представьте, что мы работаем в аэропорту в службе безопасности и сканируем багаж пассажиров. В нашем распоряжении есть информация о результатах проверки багажа за предыдущие месяцы. Про каждую вещь мы знаем:\n",
    "\n",
    "являлся ли багаж запрещенным - is_prohibited (No - разрешенный, Yes - запрещенный) \n",
    "его массу (кг) - weight\n",
    "длину (см) - length\n",
    "ширину (см) - width\n",
    "тип багажа (сумка или чемодан) - type.\n",
    "\n",
    "Напишите функцию get_features , которая получает на вход набор данных о багаже. Строит логистическую регрессию, где зависимая переменная ﻿ - ﻿являлся ли багаж запрещенным, а предикторы - остальные переменные,﻿ и возвращает вектор с названиями статистически значимых переменных (p < 0.05) (в модели без взаимодействия). Если в данных нет значимых предикторов, функция возвращает строку с сообщением  \"Prediction makes no sense\".\n",
    "\n",
    "**Подсказка. Для отбора значимых предикторов воспользуйтесь функцией anova()**"
   ]
  },
  {
   "cell_type": "code",
   "execution_count": 312,
   "metadata": {},
   "outputs": [
    {
     "name": "stdout",
     "output_type": "stream",
     "text": [
      "                            Generalized Linear Model Regression Results                             \n",
      "====================================================================================================\n",
      "Dep. Variable:     ['is_prohibited[0]', 'is_prohibited[1]']   No. Observations:                   60\n",
      "Model:                                                  GLM   Df Residuals:                       55\n",
      "Model Family:                                      Binomial   Df Model:                            4\n",
      "Link Function:                                        logit   Scale:                          1.0000\n",
      "Method:                                                IRLS   Log-Likelihood:                -41.393\n",
      "Date:                                      Fri, 08 Jan 2021   Deviance:                       82.785\n",
      "Time:                                              10:59:20   Pearson chi2:                     60.0\n",
      "No. Iterations:                                           4                                         \n",
      "Covariance Type:                                  nonrobust                                         \n",
      "=======================================================================================\n",
      "                          coef    std err          z      P>|z|      [0.025      0.975]\n",
      "---------------------------------------------------------------------------------------\n",
      "Intercept               0.7980      8.016      0.100      0.921     -14.914      16.510\n",
      "C(type)[T.Suitcase]     0.2646      0.581      0.455      0.649      -0.874       1.403\n",
      "weight                 -0.0071      0.038     -0.189      0.850      -0.081       0.067\n",
      "length                 -0.0201      0.117     -0.171      0.864      -0.250       0.209\n",
      "width                   0.0330      0.123      0.267      0.789      -0.209       0.275\n",
      "=======================================================================================\n"
     ]
    },
    {
     "name": "stderr",
     "output_type": "stream",
     "text": [
      "<ipython-input-312-3708ec773050>:13: SettingWithCopyWarning: \n",
      "A value is trying to be set on a copy of a slice from a DataFrame\n",
      "\n",
      "See the caveats in the documentation: https://pandas.pydata.org/pandas-docs/stable/user_guide/indexing.html#returning-a-view-versus-a-copy\n",
      "  data.is_prohibited[data.is_prohibited == 'Yes'] = 1\n",
      "<ipython-input-312-3708ec773050>:14: SettingWithCopyWarning: \n",
      "A value is trying to be set on a copy of a slice from a DataFrame\n",
      "\n",
      "See the caveats in the documentation: https://pandas.pydata.org/pandas-docs/stable/user_guide/indexing.html#returning-a-view-versus-a-copy\n",
      "  data.is_prohibited[data.is_prohibited == 'No'] = 0\n"
     ]
    },
    {
     "data": {
      "text/plain": [
       "'Prediction makes no sense'"
      ]
     },
     "execution_count": 312,
     "metadata": {},
     "output_type": "execute_result"
    }
   ],
   "source": [
    "import re\n",
    "import statsmodels.formula.api as sf\n",
    "import statsmodels.api as sm\n",
    "from scipy.stats import chi2_contingency\n",
    "import pandas as pd\n",
    "import numpy as np\n",
    "#data = pd.read_csv(r'https://stepic.org/media/attachments/course/524/test_data_passangers.csv')\n",
    "data = pd.read_csv(r'https://stepic.org/media/attachments/course/524/test_luggage_1.csv')\n",
    "\n",
    "def get_features0(data):\n",
    "    result = []\n",
    "    # Меняем значения зависимой переменной на 1 / 0\n",
    "    data.is_prohibited[data.is_prohibited == 'Yes'] = 1\n",
    "    data.is_prohibited[data.is_prohibited == 'No'] = 0\n",
    "    # ЛОГИСТИЧЕСКАЯ РЕГРЕССИЯ\n",
    "    logit_res = sf.glm('is_prohibited ~ C(type) + weight + length + width', data, family = sm.families.Binomial()).fit().summary()\n",
    "    print(logit_res)\n",
    "    coef_names = np.array([str(logit_res.tables[1][i][0]) for i in range(1, 6)])\n",
    "    coef = np.array([float(str(logit_res.tables[1][i][1])) for i in range(1, 6)])\n",
    "    p_values = np.array([float(str(logit_res.tables[1][i][4])) for i in range(1, 6)])\n",
    "    # Выбираем только те имена коэфициентов, для которых p_values < 0.05\n",
    "    res1 = coef_names[p_values < 0.05]\n",
    "    \n",
    "    # Для номинативных завис переменных название коэфициентов будет отличаться от изначального\n",
    "    # Например, 'C(type)[T.Suitcase]' вместо 'type'. Поэтому мы приводим их в изначальный вид\n",
    "    result = [re.findall(name, r) for r in res1 for name in ['weight', 'length', 'width', 'type']]\n",
    "    result = list(np.array([r for r in result if r]).ravel())\n",
    "    \n",
    "    # Если в массив результатов не пустой, возвращаем его, иначе - текст\n",
    "    return result if len(result) else 'Prediction makes no sense'\n",
    "\n",
    "get_features0(data)"
   ]
  },
  {
   "cell_type": "code",
   "execution_count": 298,
   "metadata": {},
   "outputs": [
    {
     "name": "stdout",
     "output_type": "stream",
     "text": [
      "1.0\n"
     ]
    }
   ],
   "source": [
    "# Проверяем p_value, используя Хи-квадрат, для 'is_prohibited' и 'weight'\n",
    "weight = data[['is_prohibited', 'weight', 'length']]\n",
    "weight1 = weight.groupby(['is_prohibited', 'weight']).count()\n",
    "chi2, p_value, dof, expected = chi2_contingency(weight1)\n",
    "print(p_value)"
   ]
  },
  {
   "cell_type": "code",
   "execution_count": 299,
   "metadata": {},
   "outputs": [
    {
     "name": "stdout",
     "output_type": "stream",
     "text": [
      "1.0\n"
     ]
    }
   ],
   "source": [
    "# Проверяем p_value, используя Хи-квадрат, для 'is_prohibited' и 'length'\n",
    "length = data[['is_prohibited', 'length', 'weight']]\n",
    "length1 = length.groupby(['is_prohibited', 'length']).count()\n",
    "chi2, p_value, dof, expected = chi2_contingency(length1)\n",
    "print(p_value)"
   ]
  },
  {
   "cell_type": "code",
   "execution_count": 300,
   "metadata": {},
   "outputs": [
    {
     "name": "stdout",
     "output_type": "stream",
     "text": [
      "1.0\n"
     ]
    }
   ],
   "source": [
    "# Проверяем p_value, используя Хи-квадрат, для 'is_prohibited' и 'width'\n",
    "width = data[['is_prohibited', 'width', 'weight']]\n",
    "width1 = width.groupby(['is_prohibited', 'width']).count()\n",
    "chi2, p_value, dof, expected = chi2_contingency(width1)\n",
    "print(p_value)"
   ]
  },
  {
   "cell_type": "code",
   "execution_count": null,
   "metadata": {},
   "outputs": [],
   "source": [
    "# Везде p_value > 0,05. Значит, ни один коэфициент не имеет статистич значимости"
   ]
  },
  {
   "cell_type": "markdown",
   "metadata": {},
   "source": [
    "# 4  "
   ]
  },
  {
   "cell_type": "markdown",
   "metadata": {},
   "source": [
    "Интересной особенностью логистической регрессии является тот факт, что ее предсказания — это не конкретный класс, к которому мы отнесем новое наблюдение, а вероятность отнесения к каждому из классов! Если вас интересует, как принимать решение о классификации новых объектов в логистической регрессии, посмотрите наш урок по этой теме в курсе по R, где мы разбираем этот вопрос.\n",
    "\n",
    "В результате, построив регрессионную модель, мы можем сделать вероятностное предсказание для каждого нового наблюдения. Иногда при решении практических задач бывает важным обратить внимание на те объекты, которые получили максимальное значение вероятности принадлежности к одному из классов.\n",
    "\n",
    "Продолжим нашу работу в службе безопасности! Разобравшись с тем, какие предикторы могут помогать нам предсказывать запрещенный багаж, давайте применим наши знания для повышения безопасности в аэропорту. Обучим наш алгоритм различать запрещенный и разрешенный багаж на уже имеющихся данных и применим его для сканирования нового багажа!\n",
    "\n",
    "Напишите функцию, которая принимает на вход два набора данных. Первый dataframe, как и в предыдущей задаче, содержит информацию об уже осмотренном багаже (запрещенный или нет, вес, длина, ширина, тип сумки). \n",
    "\n",
    "Второй набор данных — это информация о новом багаже, который сканируется прямо сейчас. В данных также есть информация:  вес, длина, ширина, тип сумки и имя пассажира (смотри описание переменных в примере). \n",
    "\n",
    "Используя первый набор данных, обучите регрессионную модель различать запрещенный и разрешенный багаж. При помощи полученной модели для каждого наблюдения в новых данных предскажите вероятность того, что багаж является запрещенным. Пассажиров, чей багаж получил максимальное значение вероятности, мы попросим пройти дополнительную проверку. \n",
    "\n",
    "Итого, ваша функция принимает два набора данных и возвращает имя пассажира с наиболее подозрительным багажом. Если несколько пассажиров получили максимальное значение вероятности, то верните вектор с несколькими именами. \n",
    "\n",
    "В этой задаче для предсказания будем использовать все предикторы, даже если некоторые из них оказались незначимыми. Для предсказания стройте модель без взаимодействия предикторов."
   ]
  },
  {
   "cell_type": "code",
   "execution_count": 421,
   "metadata": {},
   "outputs": [
    {
     "data": {
      "text/html": [
       "<div>\n",
       "<style scoped>\n",
       "    .dataframe tbody tr th:only-of-type {\n",
       "        vertical-align: middle;\n",
       "    }\n",
       "\n",
       "    .dataframe tbody tr th {\n",
       "        vertical-align: top;\n",
       "    }\n",
       "\n",
       "    .dataframe thead th {\n",
       "        text-align: right;\n",
       "    }\n",
       "</style>\n",
       "<table border=\"1\" class=\"dataframe\">\n",
       "  <thead>\n",
       "    <tr style=\"text-align: right;\">\n",
       "      <th></th>\n",
       "      <th>coef_names</th>\n",
       "      <th>coef</th>\n",
       "      <th>p_values</th>\n",
       "    </tr>\n",
       "  </thead>\n",
       "  <tbody>\n",
       "    <tr>\n",
       "      <th>Intercept</th>\n",
       "      <td>Intercept</td>\n",
       "      <td>-2.848451</td>\n",
       "      <td>0.757</td>\n",
       "    </tr>\n",
       "    <tr>\n",
       "      <th>C(type)[T.Suitcase]</th>\n",
       "      <td>C(type)[T.Suitcase]</td>\n",
       "      <td>-2.476006</td>\n",
       "      <td>0.021</td>\n",
       "    </tr>\n",
       "    <tr>\n",
       "      <th>weight</th>\n",
       "      <td>weight</td>\n",
       "      <td>-0.057797</td>\n",
       "      <td>0.526</td>\n",
       "    </tr>\n",
       "    <tr>\n",
       "      <th>length</th>\n",
       "      <td>length</td>\n",
       "      <td>0.125409</td>\n",
       "      <td>0.206</td>\n",
       "    </tr>\n",
       "    <tr>\n",
       "      <th>width</th>\n",
       "      <td>width</td>\n",
       "      <td>0.103319</td>\n",
       "      <td>0.319</td>\n",
       "    </tr>\n",
       "  </tbody>\n",
       "</table>\n",
       "</div>"
      ],
      "text/plain": [
       "                              coef_names      coef  p_values\n",
       "Intercept                      Intercept -2.848451     0.757\n",
       "C(type)[T.Suitcase]  C(type)[T.Suitcase] -2.476006     0.021\n",
       "weight                            weight -0.057797     0.526\n",
       "length                            length  0.125409     0.206\n",
       "width                              width  0.103319     0.319"
      ]
     },
     "execution_count": 421,
     "metadata": {},
     "output_type": "execute_result"
    }
   ],
   "source": [
    "import re\n",
    "import statsmodels.formula.api as sf\n",
    "import statsmodels.api as sm\n",
    "from scipy.stats import chi2_contingency\n",
    "import pandas as pd\n",
    "import numpy as np\n",
    "data = pd.read_csv(r'https://stepic.org/media/attachments/course/524/test_data_passangers.csv')\n",
    "\n",
    "def get_regression_model(data):\n",
    "    # Меняем значения зависимой переменной на 1 / 0\n",
    "    data.is_prohibited = data.is_prohibited.map({'Yes' : 1, 'No' : 0})\n",
    "    # ЛОГИСТИЧЕСКАЯ РЕГРЕССИЯ\n",
    "    model = sf.glm('is_prohibited ~ C(type) + weight + length + width', data, family = sm.families.Binomial()).fit()\n",
    "    coef = model.params\n",
    "    logit_res = model.summary()\n",
    "    coef_names = np.array([str(logit_res.tables[1][i][0]) for i in range(1, 6)])\n",
    "    p_values = np.array([float(str(logit_res.tables[1][i][4])) for i in range(1, 6)])\n",
    "    \n",
    "    regression_model = pd.DataFrame(data={\n",
    "        'coef_names' : coef_names,\n",
    "        'coef' : coef,\n",
    "        'p_values' : p_values\n",
    "    })\n",
    "    return regression_model\n",
    "\n",
    "get_regression_model(data)"
   ]
  },
  {
   "cell_type": "code",
   "execution_count": 420,
   "metadata": {},
   "outputs": [
    {
     "name": "stdout",
     "output_type": "stream",
     "text": [
      "Intercept             -2.848451\n",
      "C(type)[T.Suitcase]   -2.476006\n",
      "weight                -0.057797\n",
      "length                 0.125409\n",
      "width                  0.103319\n",
      "dtype: float64\n"
     ]
    },
    {
     "data": {
      "text/plain": [
       "['Svetozar']"
      ]
     },
     "execution_count": 420,
     "metadata": {},
     "output_type": "execute_result"
    }
   ],
   "source": [
    "data = pd.read_csv(r'https://stepic.org/media/attachments/course/524/test_data_passangers.csv')\n",
    "data_for_predict = pd.read_csv(r'https://stepic.org/media/attachments/course/524/predict_passangers.csv')\n",
    "\n",
    "def most_suspicious(test_data, data_for_predict):\n",
    "    model = get_regression_model(test_data)\n",
    "    data_for_predict['is_Suitcase'] = data_for_predict['type'].map({'Suitcase' : 1, 'Bag' : 0})\n",
    "    # Находим logit = ß0 + ß1*x1 + ß2*x2 + ...\n",
    "    logit = \\\n",
    "        model.coef[model.coef_names == r'Intercept'].values[0] + \\\n",
    "        model.coef[model.coef_names == r'C(type)[T.Suitcase]'].values[0] * data_for_predict['is_Suitcase'] + \\\n",
    "        model.coef[model.coef_names == r'weight'].values[0] * data_for_predict['weight'] + \\\n",
    "        model.coef[model.coef_names == r'length'].values[0] * data_for_predict['length'] + \\\n",
    "        model.coef[model.coef_names == r'width'].values[0] * data_for_predict['width']\n",
    "    # Вероятность p = exp(logit) / (1 + exp(logit))\n",
    "    data_for_predict['probability'] = np.exp(logit) / (1 + np.exp(logit))\n",
    "    # Возвращаем имя пассажира(или пассажиров) с самой высокой вероятностью запрещенного багажа\n",
    "    return list(data_for_predict['passangers'][data_for_predict['probability'] == data_for_predict['probability'].max()].values)\n",
    "    \n",
    "most_suspicious(data, data_for_predict)"
   ]
  },
  {
   "cell_type": "markdown",
   "metadata": {},
   "source": [
    "# 5"
   ]
  },
  {
   "cell_type": "markdown",
   "metadata": {},
   "source": [
    "Напишите функцию normality_test, которая получает на вход dataframe с произвольным количеством переменных разных типов (количественные, строки, факторы) и проверяет нормальность распределения количественных переменных. Функция должна возвращать вектор значений p-уровней значимости теста shapiro.test для каждой количественной переменной.\n",
    "\n",
    "**Вот такая задача уж точно встретится вам в реальной практике не один раз!**"
   ]
  },
  {
   "cell_type": "code",
   "execution_count": 464,
   "metadata": {},
   "outputs": [
    {
     "data": {
      "text/plain": [
       "V1    0.568\n",
       "V3    0.246\n",
       "V5    0.314\n",
       "V6    0.009\n",
       "dtype: float64"
      ]
     },
     "execution_count": 464,
     "metadata": {},
     "output_type": "execute_result"
    }
   ],
   "source": [
    "import pandas as pd\n",
    "from scipy.stats import shapiro\n",
    "def normality_test(data):\n",
    "    data = pd.read_csv(r'https://stepic.org/media/attachments/course/524/test.csv')\n",
    "    types = data.dtypes\n",
    "    num_cols = [k for k, v in types.items() if str(v).lower() in 'float32 float64 int64 int32']\n",
    "    #for key, column in data[num_cols].items():\n",
    "        #statistic, res[key] = shapiro(column)\n",
    "    # Если использовать apply, то обойдемся без цикла!\n",
    "    res = data[num_cols].apply(shapiro, axis=0).map(lambda x: round(x[1],3))\n",
    "    return res\n",
    "normality_test(data)"
   ]
  },
  {
   "cell_type": "code",
   "execution_count": 462,
   "metadata": {},
   "outputs": [
    {
     "data": {
      "text/plain": [
       "V1    0.568\n",
       "V3    0.246\n",
       "V5    0.314\n",
       "V6    0.009\n",
       "dtype: float64"
      ]
     },
     "execution_count": 462,
     "metadata": {},
     "output_type": "execute_result"
    }
   ],
   "source": [
    "# Чужой код. Более элегантный\n",
    "def norm_test(df):\n",
    "    df_n = data.select_dtypes(include=np.number)\n",
    "    df_s = df_n.apply(shapiro, axis=0).map(lambda x: round(x[1],3))\n",
    "    return df_s\n",
    "norm_test(data)"
   ]
  },
  {
   "cell_type": "markdown",
   "metadata": {},
   "source": [
    "# 6 Проверяем: Распределение - нормальное? Дисперсии - гомогенные?"
   ]
  },
  {
   "cell_type": "markdown",
   "metadata": {},
   "source": [
    "Напишите функцию smart_anova, которая получает на вход dataframe с двумя переменными x и y. Переменная x — это количественная переменная, переменная y - фактор, ﻿разбивает наблюдения на три группы.\n",
    "\n",
    "Если распределения во всех группах значимо не отличаются от нормального, а дисперсии в группах гомогенны, функция должна сравнить три группы при помощи дисперсионного анализа и вернуть ﻿именованный вектор со значением p-value, имя элемента — \"ANOVA\".\n",
    "\n",
    "Если хотя ﻿бы в одной группе распределение значимо отличается от нормального или дисперсии негомогенны, функция сравнивает группы при помощи критерия Краскела — Уоллиса и возвращает именованный вектор со значением p-value, имя вектора  — \"KW\".\n",
    "\n",
    "Распределение будем считать значимо отклонившимся от нормального, если в тесте shapiro.test() p < 0.05.\n",
    "\n",
    "Дисперсии будем считать не гомогенными, если в тесте bartlett.test() p < 0.05."
   ]
  },
  {
   "cell_type": "code",
   "execution_count": 64,
   "metadata": {},
   "outputs": [
    {
     "data": {
      "text/plain": [
       "{'ANOVA': [0.26529804467380746]}"
      ]
     },
     "execution_count": 64,
     "metadata": {},
     "output_type": "execute_result"
    }
   ],
   "source": [
    "from scipy.stats import bartlett\n",
    "from scipy.stats import shapiro\n",
    "from scipy.stats import kruskal\n",
    "from scipy.stats import f_oneway\n",
    "\n",
    "data = pd.read_csv(r'https://stepic.org/media/attachments/course/524/s_anova_test.csv')\n",
    "\n",
    "def smart_anova(data):\n",
    "    group_names = data.groupby(['y']).mean().index\n",
    "    all_samples = [data.x[data.y == group_name] for group_name in group_names]\n",
    "    # если дисперсии негомогенны, функция сравнивает группы при помощи критерия Краскела — Уоллиса\n",
    "    t_statistic, p_bartlett = bartlett(*all_samples) \n",
    "    if p_bartlett < 0.05:\n",
    "        return {'KW' : kruskal(*all_samples).pvalue}\n",
    "    # Если хотя бы в одной группе распределение отличается от нормального - критерий Краскела — Уоллиса\n",
    "    # для каждой выборки отдельно находим p_value\n",
    "    p_shapiro_values = [shapiro(data.x[data.y == group_name].values).pvalue for group_name in group_names]\n",
    "    for p in p_shapiro_values:\n",
    "        if p < 0.05:\n",
    "            return {'KW' : kruskal(*all_samples).pvalue}\n",
    "    # ИНАЧЕ - при помощи дисперсионного анализа One-way ANOVA\n",
    "    return {'ANOVA' : [f_oneway(*all_samples).pvalue]}\n",
    "\n",
    "smart_anova(data)"
   ]
  },
  {
   "cell_type": "markdown",
   "metadata": {},
   "source": [
    "# 7"
   ]
  },
  {
   "cell_type": "markdown",
   "metadata": {},
   "source": [
    "Напишите функцию normality_by, которая принимает на вход dataframe c тремя переменными. Первая переменная количественная, вторая и третья имеют две градации и разбивают наши наблюдения на группы. Функция должна проверять распределение на нормальность в каждой получившейся группе и возвращать dataframe с результатами применения теста ﻿ shapiro.test ﻿﻿(формат вывода смотри ниже).\n",
    "\n",
    "Рассмотрим пример работы функции. В данных mtcars есть две группирующие переменные am и vs, и обе переменные имеют две градации 0 и 1. В результате получаем 4 группы\n",
    "\n",
    "Теперь для переменной mpg ﻿в каждой из четырех групп можно проверить распределение на нормальность при помощи функции shapiro.test﻿  и вывести получившийся ﻿p-value:\n",
    "\n",
    "\n",
    ">   y z    p_value\n",
    "\n",
    ">0 2 0.21976723\n",
    "\n",
    ">0 3 0.62381802\n",
    "\n",
    "> ..."
   ]
  },
  {
   "cell_type": "code",
   "execution_count": 87,
   "metadata": {},
   "outputs": [
    {
     "data": {
      "text/html": [
       "<div>\n",
       "<style scoped>\n",
       "    .dataframe tbody tr th:only-of-type {\n",
       "        vertical-align: middle;\n",
       "    }\n",
       "\n",
       "    .dataframe tbody tr th {\n",
       "        vertical-align: top;\n",
       "    }\n",
       "\n",
       "    .dataframe thead th {\n",
       "        text-align: right;\n",
       "    }\n",
       "</style>\n",
       "<table border=\"1\" class=\"dataframe\">\n",
       "  <thead>\n",
       "    <tr style=\"text-align: right;\">\n",
       "      <th></th>\n",
       "      <th>y</th>\n",
       "      <th>z</th>\n",
       "      <th>p_value</th>\n",
       "    </tr>\n",
       "  </thead>\n",
       "  <tbody>\n",
       "    <tr>\n",
       "      <th>0</th>\n",
       "      <td>0</td>\n",
       "      <td>2</td>\n",
       "      <td>0.000024</td>\n",
       "    </tr>\n",
       "    <tr>\n",
       "      <th>1</th>\n",
       "      <td>0</td>\n",
       "      <td>3</td>\n",
       "      <td>0.000490</td>\n",
       "    </tr>\n",
       "    <tr>\n",
       "      <th>2</th>\n",
       "      <td>1</td>\n",
       "      <td>2</td>\n",
       "      <td>0.000020</td>\n",
       "    </tr>\n",
       "    <tr>\n",
       "      <th>3</th>\n",
       "      <td>1</td>\n",
       "      <td>3</td>\n",
       "      <td>0.000014</td>\n",
       "    </tr>\n",
       "  </tbody>\n",
       "</table>\n",
       "</div>"
      ],
      "text/plain": [
       "   y  z   p_value\n",
       "0  0  2  0.000024\n",
       "1  0  3  0.000490\n",
       "2  1  2  0.000020\n",
       "3  1  3  0.000014"
      ]
     },
     "execution_count": 87,
     "metadata": {},
     "output_type": "execute_result"
    }
   ],
   "source": [
    "from scipy.stats import shapiro\n",
    "data = pd.read_csv(r'https://stepic.org/media/attachments/course/524/test_for_norm.csv')\n",
    "\n",
    "def normality_by(data):\n",
    "    return data.groupby(['y', 'z'])\\\n",
    "        .apply(lambda x : pd.Series(shapiro(x)[1], index=['p_value']))\\\n",
    "        .reset_index()\n",
    "    \n",
    "normality_by(data)"
   ]
  },
  {
   "cell_type": "markdown",
   "metadata": {},
   "source": [
    "# 8"
   ]
  },
  {
   "cell_type": "markdown",
   "metadata": {},
   "source": [
    "Тесты тестами, а графики никто не отменял! Мой вам совет: всегда визуализируйте ваши переменные и их взаимосвязи. Иногда то, что сразу становится видным на графике (например, выброс или очевидно странная форма распределения), может ускользнуть от внимания во время статистического анализа. \n",
    "\n",
    "При помощи библиотеки ggplot2 визуализируйте распределение переменной Sepal.Length в трех группах в данных Iris. \n",
    "\n",
    "На ответ это не повлияет, но чтобы сделать плотности распределения прозрачными, используйте аргумент alpha в настройках geom_density: "
   ]
  },
  {
   "cell_type": "code",
   "execution_count": 130,
   "metadata": {},
   "outputs": [
    {
     "data": {
      "image/png": "[encoded data removed]",
      "text/plain": [
       "<Figure size 864x504 with 1 Axes>"
      ]
     },
     "metadata": {
      "needs_background": "light"
     },
     "output_type": "display_data"
    }
   ],
   "source": [
    "import seaborn as sns\n",
    "from sklearn import datasets\n",
    "\n",
    "labels = [\"Setosa\", \"Versicolour\", \"Virginica\"]\n",
    "iris = datasets.load_iris()\n",
    "x = iris.data[:, 0]\n",
    "y = iris.target\n",
    "data = pd.DataFrame(data={'x': x, 'y': y})\n",
    "\n",
    "for i in range(3):\n",
    "    # sns_plot = sns.distplot(data.x[data.y == i])\n",
    "    sns_plot = sns.distplot(data.x[data.y == i], hist = False, kde = True,\n",
    "                 kde_kws = {'shade': True, 'linewidth': 3},\n",
    "                 label=labels[i])\n",
    "fig = sns_plot.get_figure()\n",
    "fig.set_figwidth(12)\n",
    "fig.set_figheight(7)\n",
    "\n",
    "plt.xlabel(\"Sepal length\")\n",
    "plt.ylabel(\"Density\")\n",
    "plt.title(\"Distributions of sepal length\")\n",
    "plt.legend(title=\"Species\");\n"
   ]
  },
  {
   "cell_type": "markdown",
   "metadata": {},
   "source": [
    "# ПРАКТИКА - МОДУЛЬ 3"
   ]
  },
  {
   "cell_type": "markdown",
   "metadata": {},
   "source": [
    "# Кластерный анализ"
   ]
  },
  {
   "cell_type": "markdown",
   "metadata": {},
   "source": [
    "# 0"
   ]
  },
  {
   "cell_type": "markdown",
   "metadata": {},
   "source": [
    "Предположим, это один из кластеров в наших данных, тогда чему будет равняться внутрикластерная сумма квадратов?"
   ]
  },
  {
   "cell_type": "code",
   "execution_count": 144,
   "metadata": {},
   "outputs": [
    {
     "data": {
      "text/plain": [
       "146.0"
      ]
     },
     "execution_count": 144,
     "metadata": {},
     "output_type": "execute_result"
    }
   ],
   "source": [
    "all_dots_coord = np.array([[-3, 3], [1, 4], [2, 6], [3, 8], [5, 2], [6, 11], [7, 1]])\n",
    "\n",
    "# Внеутрикластерная сумма квадратов - сумма квадратов расстояний от центроида до каждой точки\n",
    "def sum_of_squares(all_dots_coord):\n",
    "    #AB = √(xb - xa)2 + (yb - ya)2\n",
    "    centroid_coord = get_centroid_coord(all_dots_coord)\n",
    "    res = np.sum((all_dots_coord[: , 0] - centroid_coord[0]) ** 2) + np.sum((all_dots_coord[: , 1] - centroid_coord[1]) ** 2)\n",
    "    return res\n",
    "\n",
    "def get_centroid_coord(all_dots_coord):\n",
    "    return np.array([np.mean(all_dots_coord[: , 0]), np.mean(all_dots_coord[: , 1])])\n",
    "\n",
    "sum_of_squares(all_dots_coord)\n"
   ]
  },
  {
   "cell_type": "markdown",
   "metadata": {},
   "source": [
    "## Кластерный анализ - как визуализировать\n",
    "Чтобы определить, сколько кластеров стоит выделить\n",
    "\n",
    "(пример из комментариев)"
   ]
  },
  {
   "cell_type": "code",
   "execution_count": 145,
   "metadata": {},
   "outputs": [
    {
     "data": {
      "image/png": "[encoded data removed]",
      "text/plain": [
       "<Figure size 432x432 with 1 Axes>"
      ]
     },
     "metadata": {
      "needs_background": "light"
     },
     "output_type": "display_data"
    }
   ],
   "source": [
    "from sklearn.datasets import load_iris\n",
    "from sklearn.cluster import KMeans\n",
    "import pandas as pd\n",
    "\n",
    "plt.figure(figsize=(6, 6))\n",
    "plt.style.use('seaborn-white')\n",
    "\n",
    "# грузим данные \n",
    "data = load_iris()\n",
    "df = pd.DataFrame(data.data, columns=data.feature_names)\n",
    "X = df[['sepal length (cm)','petal width (cm)']].values\n",
    "\n",
    "# определяем необходимое количество кластеров\n",
    "total_wcss=[]\n",
    "n_clusters = 8\n",
    "\n",
    "for i in range(1,n_clusters): \n",
    "    kmeans = KMeans(n_clusters=i, init ='k-means++', max_iter=300,  n_init=10,random_state=0 )\n",
    "    kmeans.fit(X)\n",
    "    total_wcss.append(kmeans.inertia_)\n",
    "\n",
    "plt.plot(range(1,n_clusters),total_wcss)\n",
    "plt.title('The Elbow Method Graph')\n",
    "plt.xlabel('Number of clusters')\n",
    "plt.ylabel('Total_WCSS')\n",
    "plt.show()"
   ]
  },
  {
   "cell_type": "markdown",
   "metadata": {},
   "source": [
    "## Иерархическая кластеризация"
   ]
  },
  {
   "cell_type": "code",
   "execution_count": 149,
   "metadata": {
    "scrolled": true
   },
   "outputs": [
    {
     "data": {
      "image/png": "[encoded data removed]",
      "text/plain": [
       "<Figure size 1800x720 with 1 Axes>"
      ]
     },
     "metadata": {
      "needs_background": "light"
     },
     "output_type": "display_data"
    }
   ],
   "source": [
    "from scipy.cluster.hierarchy import dendrogram, linkage\n",
    "from matplotlib import pyplot as plt\n",
    "import numpy as np\n",
    "\n",
    "# Для прорисовки графики\n",
    "%matplotlib inline\n",
    "\n",
    "# Наши данные\n",
    "points = np.array([[1,2], [2,1], [2,2], [1,3], [6,7], [6,5], [7,8], [8,8]], dtype=float)\n",
    "\n",
    "Z = linkage(points, 'ward')\n",
    "fig = plt.figure(figsize=(25, 10))\n",
    "dn = dendrogram(Z)\n",
    "\n",
    "plt.show()"
   ]
  },
  {
   "cell_type": "markdown",
   "metadata": {},
   "source": [
    "# Реализация PCA  на питоне:\n",
    "## Principal Component Analysis\n",
    "## Анализ главных компонент"
   ]
  },
  {
   "cell_type": "code",
   "execution_count": 69,
   "metadata": {},
   "outputs": [
    {
     "ename": "ModuleNotFoundError",
     "evalue": "No module named 'pca'",
     "output_type": "error",
     "traceback": [
      "\u001b[1;31m---------------------------------------------------------------------------\u001b[0m",
      "\u001b[1;31mModuleNotFoundError\u001b[0m                       Traceback (most recent call last)",
      "\u001b[1;32m<ipython-input-69-b914b66b0d84>\u001b[0m in \u001b[0;36m<module>\u001b[1;34m\u001b[0m\n\u001b[0;32m      1\u001b[0m \u001b[1;32mimport\u001b[0m \u001b[0mnumpy\u001b[0m \u001b[1;32mas\u001b[0m \u001b[0mnp\u001b[0m\u001b[1;33m\u001b[0m\u001b[1;33m\u001b[0m\u001b[0m\n\u001b[1;32m----> 2\u001b[1;33m \u001b[1;32mfrom\u001b[0m \u001b[0mpca\u001b[0m \u001b[1;32mimport\u001b[0m \u001b[0mpca\u001b[0m\u001b[1;33m\u001b[0m\u001b[1;33m\u001b[0m\u001b[0m\n\u001b[0m\u001b[0;32m      3\u001b[0m \u001b[1;32mimport\u001b[0m \u001b[0mmatplotlib\u001b[0m\u001b[1;33m.\u001b[0m\u001b[0mpyplot\u001b[0m \u001b[1;32mas\u001b[0m \u001b[0mplt\u001b[0m\u001b[1;33m\u001b[0m\u001b[1;33m\u001b[0m\u001b[0m\n\u001b[0;32m      4\u001b[0m \u001b[1;33m\u001b[0m\u001b[0m\n\u001b[0;32m      5\u001b[0m \u001b[1;31m# генерируем линейную зависимость оценок\u001b[0m\u001b[1;33m\u001b[0m\u001b[1;33m\u001b[0m\u001b[1;33m\u001b[0m\u001b[0m\n",
      "\u001b[1;31mModuleNotFoundError\u001b[0m: No module named 'pca'"
     ]
    }
   ],
   "source": [
    "import numpy as np\n",
    "from pca import pca\n",
    "import matplotlib.pyplot as plt\n",
    "\n",
    "# генерируем линейную зависимость оценок\n",
    "R = np.random.randint(75,120,50)\n",
    "stat = [elem + np.random.randint(-10,10) for elem in R]\n",
    "X = np.column_stack((R, stat))\n",
    "\n",
    "x = X[:,0]\n",
    "y = X[:,1]\n",
    "\n",
    "# рисуем диаграмму рассеивания \n",
    "plt.figure(figsize=(6, 6))\n",
    "plt.scatter(x, y)\n",
    "\n",
    "# добавляем регрессионную прямую\n",
    "b1, b0 = np.polyfit(x, y, 1) #  b0 - intercept, b1 - slope\n",
    "plt.plot(x, b0 + b1*x, color='red')\n",
    "plt.grid()\n",
    "plt.show()\n",
    "\n",
    "# используем модуль pca:\n",
    "# настраиваем модель с 2-мя компонентами\n",
    "model = pca(n_components=2)\n",
    "results = model.fit_transform(X)\n",
    "\n",
    "# столбчатая диаграмма\n",
    "fig, ax = model.plot()\n",
    "\n",
    "# диаграмма рассеивания с новыми координатами\n",
    "fig, ax = model.biplot(n_feat=4)\n",
    "plt.show()"
   ]
  },
  {
   "cell_type": "markdown",
   "metadata": {},
   "source": [
    "# 1"
   ]
  },
  {
   "cell_type": "markdown",
   "metadata": {},
   "source": [
    "Напишите функцию smart_hclust, которая получает на вход dataframe  с произвольным числом количественных переменных и число кластеров, которое необходимо выделить при помощи иерархической кластеризации.\n",
    "\n",
    "Функция должна в исходный набор данных добавлять новую переменную фактор - cluster  -- номер кластера, к которому отнесено каждое из наблюдений.\n",
    "\n",
    "для кластеризации данных swiss на три кластера мы бы использовали команды:\n",
    "\n",
    "**linkage(data, method='average', metric='euclidean') # расчет матрицы расстояний**\n",
    "\n",
    "**dendrogram(Z) # иерархическая кластеризация**\n",
    "\n",
    "**fcluster(Z, 9.5, criterion='distance') # Разбиваем на кластеры**"
   ]
  },
  {
   "cell_type": "code",
   "execution_count": 29,
   "metadata": {},
   "outputs": [
    {
     "data": {
      "text/html": [
       "<div>\n",
       "<style scoped>\n",
       "    .dataframe tbody tr th:only-of-type {\n",
       "        vertical-align: middle;\n",
       "    }\n",
       "\n",
       "    .dataframe tbody tr th {\n",
       "        vertical-align: top;\n",
       "    }\n",
       "\n",
       "    .dataframe thead th {\n",
       "        text-align: right;\n",
       "    }\n",
       "</style>\n",
       "<table border=\"1\" class=\"dataframe\">\n",
       "  <thead>\n",
       "    <tr style=\"text-align: right;\">\n",
       "      <th></th>\n",
       "      <th>X1</th>\n",
       "      <th>X2</th>\n",
       "      <th>X3</th>\n",
       "      <th>X4</th>\n",
       "      <th>X5</th>\n",
       "      <th>labels</th>\n",
       "    </tr>\n",
       "  </thead>\n",
       "  <tbody>\n",
       "    <tr>\n",
       "      <th>0</th>\n",
       "      <td>11</td>\n",
       "      <td>7</td>\n",
       "      <td>10</td>\n",
       "      <td>10</td>\n",
       "      <td>8</td>\n",
       "      <td>1</td>\n",
       "    </tr>\n",
       "    <tr>\n",
       "      <th>1</th>\n",
       "      <td>9</td>\n",
       "      <td>10</td>\n",
       "      <td>10</td>\n",
       "      <td>8</td>\n",
       "      <td>6</td>\n",
       "      <td>1</td>\n",
       "    </tr>\n",
       "    <tr>\n",
       "      <th>2</th>\n",
       "      <td>9</td>\n",
       "      <td>2</td>\n",
       "      <td>12</td>\n",
       "      <td>14</td>\n",
       "      <td>11</td>\n",
       "      <td>2</td>\n",
       "    </tr>\n",
       "    <tr>\n",
       "      <th>3</th>\n",
       "      <td>9</td>\n",
       "      <td>11</td>\n",
       "      <td>8</td>\n",
       "      <td>10</td>\n",
       "      <td>3</td>\n",
       "      <td>1</td>\n",
       "    </tr>\n",
       "    <tr>\n",
       "      <th>4</th>\n",
       "      <td>7</td>\n",
       "      <td>9</td>\n",
       "      <td>10</td>\n",
       "      <td>11</td>\n",
       "      <td>14</td>\n",
       "      <td>2</td>\n",
       "    </tr>\n",
       "    <tr>\n",
       "      <th>5</th>\n",
       "      <td>9</td>\n",
       "      <td>11</td>\n",
       "      <td>9</td>\n",
       "      <td>6</td>\n",
       "      <td>9</td>\n",
       "      <td>1</td>\n",
       "    </tr>\n",
       "    <tr>\n",
       "      <th>6</th>\n",
       "      <td>16</td>\n",
       "      <td>20</td>\n",
       "      <td>22</td>\n",
       "      <td>19</td>\n",
       "      <td>16</td>\n",
       "      <td>4</td>\n",
       "    </tr>\n",
       "    <tr>\n",
       "      <th>7</th>\n",
       "      <td>23</td>\n",
       "      <td>18</td>\n",
       "      <td>21</td>\n",
       "      <td>24</td>\n",
       "      <td>16</td>\n",
       "      <td>4</td>\n",
       "    </tr>\n",
       "    <tr>\n",
       "      <th>8</th>\n",
       "      <td>15</td>\n",
       "      <td>21</td>\n",
       "      <td>14</td>\n",
       "      <td>21</td>\n",
       "      <td>21</td>\n",
       "      <td>3</td>\n",
       "    </tr>\n",
       "    <tr>\n",
       "      <th>9</th>\n",
       "      <td>19</td>\n",
       "      <td>20</td>\n",
       "      <td>15</td>\n",
       "      <td>17</td>\n",
       "      <td>17</td>\n",
       "      <td>3</td>\n",
       "    </tr>\n",
       "    <tr>\n",
       "      <th>10</th>\n",
       "      <td>20</td>\n",
       "      <td>24</td>\n",
       "      <td>21</td>\n",
       "      <td>20</td>\n",
       "      <td>19</td>\n",
       "      <td>4</td>\n",
       "    </tr>\n",
       "    <tr>\n",
       "      <th>11</th>\n",
       "      <td>22</td>\n",
       "      <td>19</td>\n",
       "      <td>27</td>\n",
       "      <td>22</td>\n",
       "      <td>19</td>\n",
       "      <td>4</td>\n",
       "    </tr>\n",
       "  </tbody>\n",
       "</table>\n",
       "</div>"
      ],
      "text/plain": [
       "    X1  X2  X3  X4  X5  labels\n",
       "0   11   7  10  10   8       1\n",
       "1    9  10  10   8   6       1\n",
       "2    9   2  12  14  11       2\n",
       "3    9  11   8  10   3       1\n",
       "4    7   9  10  11  14       2\n",
       "5    9  11   9   6   9       1\n",
       "6   16  20  22  19  16       4\n",
       "7   23  18  21  24  16       4\n",
       "8   15  21  14  21  21       3\n",
       "9   19  20  15  17  17       3\n",
       "10  20  24  21  20  19       4\n",
       "11  22  19  27  22  19       4"
      ]
     },
     "execution_count": 29,
     "metadata": {},
     "output_type": "execute_result"
    },
    {
     "data": {
      "image/png": "[encoded data removed]",
      "text/plain": [
       "<Figure size 432x288 with 1 Axes>"
      ]
     },
     "metadata": {
      "needs_background": "light"
     },
     "output_type": "display_data"
    }
   ],
   "source": [
    "import pandas as pd\n",
    "from scipy.cluster.hierarchy import linkage, fcluster, dendrogram\n",
    "data = pd.read_csv(r'https://stepic.org/media/attachments/course/524/test_data_hclust.csv')\n",
    "\n",
    "def smart_hclust(data, cluster_number=4):\n",
    "    # Вычисляем матрицу расстояний\n",
    "    Z = linkage(data, method='average', metric='euclidean')\n",
    "    # Визуализируем иерархическую кластеризацию\n",
    "    dend = dendrogram(Z, orientation='left')\n",
    "    \n",
    "    # Разбиваем на кластеры\n",
    "    # 2й параметр - макс. количество кластеров, на которое мы хотим разбить данные\n",
    "    labels = fcluster(Z, cluster_number, criterion='maxclust')\n",
    "    # 2й параметр - порог отсечения (значения по x на дендрограмме)\n",
    "    \n",
    "    # labels = fcluster(Z, 9.5, criterion='distance')\n",
    "    data['labels'] = labels\n",
    "    \n",
    "    # Проинтерпритируем результаты кластеризации\n",
    "    #for i, group in data.groupby(['labels']):\n",
    "    #    print('=' * 10)\n",
    "    #    print(f'cluster {i}')\n",
    "    #    print(group)\n",
    "    \n",
    "    return data\n",
    "\n",
    "smart_hclust(data, 4)"
   ]
  },
  {
   "cell_type": "markdown",
   "metadata": {},
   "source": [
    "# 2"
   ]
  },
  {
   "cell_type": "markdown",
   "metadata": {},
   "source": [
    "Интересной особенностью кластерного анализа является тот факт, что мы получаем только итоговый ответ, к какому кластеру принадлежит каждое наблюдение. Однако мы не знаем, по каким переменным различаются выделенные кластеры. Поэтому, если нас интересует не только сам факт того, что мы смогли выделить кластеры в наших данных, но мы также хотим понять, чем же они различаются, разумно сравнить кластеры между собой по имеющимся переменным.\n",
    "\n",
    "Напишите функцию get_difference, которая получает на вход два аргумента: \n",
    "\n",
    "    test_data — набор данных с произвольным числом количественных переменных.\n",
    "    n_cluster — число кластеров, которое нужно выделить в данных при помощи иерархической кластеризации.\n",
    "\n",
    "Функция должна вернуть названия переменных, по которым были обнаружен значимые различия между выделенными кластерами (p < 0.05)﻿. Иными словами, после того, как мы выделили заданное число кластеров, мы добавляем в исходные данные новую группирующую переменную — номер кластера, и сравниваем получившиеся группы между собой по количественным переменным при помощи дисперсионного анализа.\n",
    "\n",
    "**Подсказки:**\n",
    "\n",
    "    * Не забудьте перевести переменную с номером кластера в фактор! \n",
    "    * Вы можете использовать вашу функцию из предыдущего задания.\n",
    "    * Для поиска различий ﻿используйте ANOVA (функция aov). Давайте договоримся, что для наших целей мы не будем проверять данные на соответствие требованиями к применению этого критерия и не будем думать о поправке на множественные сравнения."
   ]
  },
  {
   "cell_type": "code",
   "execution_count": 67,
   "metadata": {},
   "outputs": [
    {
     "data": {
      "text/plain": [
       "['X1', 'X2', 'X3', 'X4', 'X5']"
      ]
     },
     "execution_count": 67,
     "metadata": {},
     "output_type": "execute_result"
    },
    {
     "data": {
      "image/png": "[encoded data removed]",
      "text/plain": [
       "<Figure size 432x288 with 1 Axes>"
      ]
     },
     "metadata": {
      "needs_background": "light"
     },
     "output_type": "display_data"
    }
   ],
   "source": [
    "import scipy.stats as stats\n",
    "data = pd.read_csv(r'https://stepic.org/media/attachments/course/524/test_data_hclust.csv')\n",
    "data.head()\n",
    "\n",
    "def get_difference(data, cluster_number):\n",
    "    # в res - Названия переменных (колонок), которыми кластеры значимо отличаются\n",
    "    res = []\n",
    "    column_names = [col_name for col_name in data]\n",
    "    data = smart_hclust(data, cluster_number)\n",
    "    data_groupedby_labels = data.groupby(['labels'])\n",
    "    for column_name in column_names:\n",
    "        # one-way ANOVA\n",
    "        pvalue = stats.f_oneway(*[col[column_name].values for i, col in data_groupedby_labels]).pvalue\n",
    "        # Если как минимум 2 кластера значимо отличаются по текущей переменной (колонке)\n",
    "        if pvalue < 0.05:\n",
    "            res.append(column_name)\n",
    "    return res\n",
    "    \n",
    "get_difference(data, 4)"
   ]
  },
  {
   "cell_type": "markdown",
   "metadata": {},
   "source": [
    "# 3 - 4"
   ]
  },
  {
   "cell_type": "markdown",
   "metadata": {},
   "source": [
    "Напишите функцию get_pc﻿, которая получает на вход dataframe с произвольным числом количественных переменных. Функция должна выполнять анализ главных компонент и добавлять в исходные данные две новые колонки со значениями первой и второй главной компоненты. Новые переменные должны называться \"PC1\"  и \"PC2\" соответственно.\n",
    "\n",
    "Для выполнения анализа главных компонент используйте функцию ﻿prcomp(). Изучите результат применения этой функции к данным, чтобы найти, где хранятся значения выделенных главных компонент."
   ]
  },
  {
   "cell_type": "markdown",
   "metadata": {},
   "source": [
    "Усложним предыдущую задачу! Напишите функцию get_pca2, которая принимает на вход dataframe с произвольным числом количественных переменных. Функция должна рассчитать, какое минимальное число главных компонент объясняет больше 90% изменчивости в исходных данных и добавлять значения этих компонент в исходный dataframe в виде новых переменных.\n",
    "\n",
    "Рассмотрим работу функции на примере встроенных данных swiss:"
   ]
  },
  {
   "cell_type": "code",
   "execution_count": 36,
   "metadata": {},
   "outputs": [
    {
     "name": "stdout",
     "output_type": "stream",
     "text": [
      "int64    5\n",
      "dtype: int64\n"
     ]
    },
    {
     "data": {
      "text/html": [
       "<div>\n",
       "<style scoped>\n",
       "    .dataframe tbody tr th:only-of-type {\n",
       "        vertical-align: middle;\n",
       "    }\n",
       "\n",
       "    .dataframe tbody tr th {\n",
       "        vertical-align: top;\n",
       "    }\n",
       "\n",
       "    .dataframe thead th {\n",
       "        text-align: right;\n",
       "    }\n",
       "</style>\n",
       "<table border=\"1\" class=\"dataframe\">\n",
       "  <thead>\n",
       "    <tr style=\"text-align: right;\">\n",
       "      <th></th>\n",
       "      <th>V1</th>\n",
       "      <th>V2</th>\n",
       "      <th>V3</th>\n",
       "      <th>V4</th>\n",
       "      <th>V5</th>\n",
       "      <th>PC1</th>\n",
       "      <th>PC2</th>\n",
       "      <th>PC3</th>\n",
       "    </tr>\n",
       "  </thead>\n",
       "  <tbody>\n",
       "    <tr>\n",
       "      <th>0</th>\n",
       "      <td>13</td>\n",
       "      <td>15</td>\n",
       "      <td>12</td>\n",
       "      <td>13</td>\n",
       "      <td>12</td>\n",
       "      <td>-4.500822</td>\n",
       "      <td>-2.364595</td>\n",
       "      <td>2.054657</td>\n",
       "    </tr>\n",
       "    <tr>\n",
       "      <th>1</th>\n",
       "      <td>16</td>\n",
       "      <td>11</td>\n",
       "      <td>8</td>\n",
       "      <td>12</td>\n",
       "      <td>6</td>\n",
       "      <td>3.039182</td>\n",
       "      <td>1.929687</td>\n",
       "      <td>3.234643</td>\n",
       "    </tr>\n",
       "    <tr>\n",
       "      <th>2</th>\n",
       "      <td>15</td>\n",
       "      <td>7</td>\n",
       "      <td>10</td>\n",
       "      <td>12</td>\n",
       "      <td>13</td>\n",
       "      <td>-2.752467</td>\n",
       "      <td>5.076265</td>\n",
       "      <td>-1.868558</td>\n",
       "    </tr>\n",
       "    <tr>\n",
       "      <th>3</th>\n",
       "      <td>12</td>\n",
       "      <td>11</td>\n",
       "      <td>6</td>\n",
       "      <td>6</td>\n",
       "      <td>4</td>\n",
       "      <td>7.837194</td>\n",
       "      <td>-1.688535</td>\n",
       "      <td>-1.581097</td>\n",
       "    </tr>\n",
       "    <tr>\n",
       "      <th>4</th>\n",
       "      <td>11</td>\n",
       "      <td>13</td>\n",
       "      <td>13</td>\n",
       "      <td>10</td>\n",
       "      <td>12</td>\n",
       "      <td>-3.623088</td>\n",
       "      <td>-2.952822</td>\n",
       "      <td>-1.839644</td>\n",
       "    </tr>\n",
       "  </tbody>\n",
       "</table>\n",
       "</div>"
      ],
      "text/plain": [
       "   V1  V2  V3  V4  V5       PC1       PC2       PC3\n",
       "0  13  15  12  13  12 -4.500822 -2.364595  2.054657\n",
       "1  16  11   8  12   6  3.039182  1.929687  3.234643\n",
       "2  15   7  10  12  13 -2.752467  5.076265 -1.868558\n",
       "3  12  11   6   6   4  7.837194 -1.688535 -1.581097\n",
       "4  11  13  13  10  12 -3.623088 -2.952822 -1.839644"
      ]
     },
     "execution_count": 36,
     "metadata": {},
     "output_type": "execute_result"
    }
   ],
   "source": [
    "from sklearn.decomposition import PCA\n",
    "data = pd.read_csv(r'https://stepic.org/media/attachments/course/524/pca_test.csv')\n",
    "print(data.dtypes.value_counts())\n",
    "def get_pc(data):\n",
    "    pca = PCA(n_components = 5)\n",
    "    principalComponents = pca.fit_transform(data.values)\n",
    "    \n",
    "    # Определяем, какую часть изменчивости определяют 1я, 2я и тд главные компоненты\n",
    "    # Выбираем столько главных компонент, чтобы в сумме было больше 90%\n",
    "    explained_variance = pca.explained_variance_ratio_\n",
    "    n, sum_of_explained_variance = 0, 0\n",
    "    while sum_of_explained_variance <= 0.9:\n",
    "        sum_of_explained_variance += explained_variance[n]\n",
    "        n += 1\n",
    "    for i in range(n):\n",
    "        data['PC' + str(i + 1)] = principalComponents[:, i]\n",
    "    return data\n",
    "\n",
    "get_pc(data)\n",
    "\n",
    "# Альтернативная форма записи - то же самое по сути\n",
    "#def get_pc(data):\n",
    "    # pca = PCA(n_components = 5)\n",
    "    # return data.assign(pc1=pca.fit_transform(data)[:, 0], \n",
    "    #       pc2=pca.fit_transform(data)[:, 1])"
   ]
  },
  {
   "cell_type": "code",
   "execution_count": 113,
   "metadata": {},
   "outputs": [
    {
     "data": {
      "image/png": "[encoded data removed]",
      "text/plain": [
       "<Figure size 576x576 with 1 Axes>"
      ]
     },
     "metadata": {
      "needs_background": "light"
     },
     "output_type": "display_data"
    }
   ],
   "source": [
    "# ВИЗУАЛИЗАЦИЯ PCA\n",
    "def visualize_pca_projection(finalDf):\n",
    "    fig = plt.figure(figsize = (8,8))\n",
    "    ax = fig.add_subplot(1,1,1) \n",
    "    ax.set_xlabel('Principal Component 1', fontsize = 15)\n",
    "    ax.set_ylabel('Principal Component 2', fontsize = 15)\n",
    "    ax.set_title('2 component PCA', fontsize = 20)\n",
    "    ax.scatter(finalDf.loc[: , 'PC1']\n",
    "                   , finalDf.loc[: , 'PC2'])\n",
    "    ax.grid()\n",
    "\n",
    "finalDf = get_pc(data)\n",
    "visualize_pca_projection(finalDf)"
   ]
  },
  {
   "cell_type": "markdown",
   "metadata": {},
   "source": [
    "# 5"
   ]
  },
  {
   "cell_type": "markdown",
   "metadata": {},
   "source": [
    "Как я говорил, метод главных компонент может применяться для борьбы с мультиколлинеарностью в данных (ситуация, когда некоторые переменные очень сильно коррелируют между собой). Однако иногда некоторые переменные не просто сильно взаимосвязаны, но могут представлять линейную комбинацию друг друга. На такие переменные лучше сразу взглянуть повнимательнее и выяснить, откуда они взялись в наших данных.\n",
    "\n",
    "Напишите функцию is_multicol, которая получает на вход dataframe произвольного размера с количественными переменными. Функция должна проверять существование строгой мультиколлинеарности, а именно наличие линейной комбинации между предикторами. Линейной комбинацией является ситуация, когда одна переменная может быть выражена через другую переменную при помощи уравнения V1=k∗V2+b V1 = k*V2+b V1=k∗V2+b.\n",
    "﻿Например V1 = V2 + 4 или V1 = V2 - 5.\n",
    "\n",
    "Функция возвращает имена переменных, между которыми есть линейная зависимость или cобщение \"There is no collinearity in the data\".\n"
   ]
  },
  {
   "cell_type": "code",
   "execution_count": 32,
   "metadata": {},
   "outputs": [
    {
     "name": "stdout",
     "output_type": "stream",
     "text": [
      "   V1  V2  V3  V4  one\n",
      "0  13  12   7  11    1\n",
      "1  15  14  13  10    1\n",
      "2   8   7  11  16    1\n",
      "[[13 15  8]\n",
      " [12 14  7]] [ 7 13 11]\n"
     ]
    },
    {
     "ename": "LinAlgError",
     "evalue": "Last 2 dimensions of the array must be square",
     "output_type": "error",
     "traceback": [
      "\u001b[1;31m---------------------------------------------------------------------------\u001b[0m",
      "\u001b[1;31mLinAlgError\u001b[0m                               Traceback (most recent call last)",
      "\u001b[1;32m<ipython-input-32-79e12206c15d>\u001b[0m in \u001b[0;36m<module>\u001b[1;34m\u001b[0m\n\u001b[0;32m     14\u001b[0m \u001b[1;33m\u001b[0m\u001b[0m\n\u001b[0;32m     15\u001b[0m \u001b[1;33m\u001b[0m\u001b[0m\n\u001b[1;32m---> 16\u001b[1;33m \u001b[0mis_multicol\u001b[0m\u001b[1;33m(\u001b[0m\u001b[0mdata\u001b[0m\u001b[1;33m)\u001b[0m\u001b[1;33m\u001b[0m\u001b[1;33m\u001b[0m\u001b[0m\n\u001b[0m",
      "\u001b[1;32m<ipython-input-32-79e12206c15d>\u001b[0m in \u001b[0;36mis_multicol\u001b[1;34m(data)\u001b[0m\n\u001b[0;32m      9\u001b[0m     \u001b[0mV1\u001b[0m \u001b[1;33m=\u001b[0m \u001b[0mnp\u001b[0m\u001b[1;33m.\u001b[0m\u001b[0marray\u001b[0m\u001b[1;33m(\u001b[0m\u001b[0mdata\u001b[0m\u001b[1;33m[\u001b[0m\u001b[1;34m'V3'\u001b[0m\u001b[1;33m]\u001b[0m\u001b[1;33m.\u001b[0m\u001b[0mvalues\u001b[0m\u001b[1;33m)\u001b[0m\u001b[1;33m\u001b[0m\u001b[1;33m\u001b[0m\u001b[0m\n\u001b[0;32m     10\u001b[0m     \u001b[0mprint\u001b[0m\u001b[1;33m(\u001b[0m\u001b[0mM1\u001b[0m\u001b[1;33m,\u001b[0m \u001b[0mV1\u001b[0m\u001b[1;33m)\u001b[0m\u001b[1;33m\u001b[0m\u001b[1;33m\u001b[0m\u001b[0m\n\u001b[1;32m---> 11\u001b[1;33m     \u001b[1;32mreturn\u001b[0m \u001b[0mlinalg\u001b[0m\u001b[1;33m.\u001b[0m\u001b[0mdet\u001b[0m\u001b[1;33m(\u001b[0m\u001b[0mM1\u001b[0m\u001b[1;33m)\u001b[0m\u001b[1;33m\u001b[0m\u001b[1;33m\u001b[0m\u001b[0m\n\u001b[0m\u001b[0;32m     12\u001b[0m     \u001b[1;31m#return linalg.matrix_rank(M1)\u001b[0m\u001b[1;33m\u001b[0m\u001b[1;33m\u001b[0m\u001b[1;33m\u001b[0m\u001b[0m\n\u001b[0;32m     13\u001b[0m     \u001b[1;31m#return linalg.solve(M1, V1)\u001b[0m\u001b[1;33m\u001b[0m\u001b[1;33m\u001b[0m\u001b[1;33m\u001b[0m\u001b[0m\n",
      "\u001b[1;32m<__array_function__ internals>\u001b[0m in \u001b[0;36mdet\u001b[1;34m(*args, **kwargs)\u001b[0m\n",
      "\u001b[1;32mC:\\ProgramData\\Anaconda3\\lib\\site-packages\\numpy\\linalg\\linalg.py\u001b[0m in \u001b[0;36mdet\u001b[1;34m(a)\u001b[0m\n\u001b[0;32m   2111\u001b[0m     \u001b[0ma\u001b[0m \u001b[1;33m=\u001b[0m \u001b[0masarray\u001b[0m\u001b[1;33m(\u001b[0m\u001b[0ma\u001b[0m\u001b[1;33m)\u001b[0m\u001b[1;33m\u001b[0m\u001b[1;33m\u001b[0m\u001b[0m\n\u001b[0;32m   2112\u001b[0m     \u001b[0m_assert_stacked_2d\u001b[0m\u001b[1;33m(\u001b[0m\u001b[0ma\u001b[0m\u001b[1;33m)\u001b[0m\u001b[1;33m\u001b[0m\u001b[1;33m\u001b[0m\u001b[0m\n\u001b[1;32m-> 2113\u001b[1;33m     \u001b[0m_assert_stacked_square\u001b[0m\u001b[1;33m(\u001b[0m\u001b[0ma\u001b[0m\u001b[1;33m)\u001b[0m\u001b[1;33m\u001b[0m\u001b[1;33m\u001b[0m\u001b[0m\n\u001b[0m\u001b[0;32m   2114\u001b[0m     \u001b[0mt\u001b[0m\u001b[1;33m,\u001b[0m \u001b[0mresult_t\u001b[0m \u001b[1;33m=\u001b[0m \u001b[0m_commonType\u001b[0m\u001b[1;33m(\u001b[0m\u001b[0ma\u001b[0m\u001b[1;33m)\u001b[0m\u001b[1;33m\u001b[0m\u001b[1;33m\u001b[0m\u001b[0m\n\u001b[0;32m   2115\u001b[0m     \u001b[0msignature\u001b[0m \u001b[1;33m=\u001b[0m \u001b[1;34m'D->D'\u001b[0m \u001b[1;32mif\u001b[0m \u001b[0misComplexType\u001b[0m\u001b[1;33m(\u001b[0m\u001b[0mt\u001b[0m\u001b[1;33m)\u001b[0m \u001b[1;32melse\u001b[0m \u001b[1;34m'd->d'\u001b[0m\u001b[1;33m\u001b[0m\u001b[1;33m\u001b[0m\u001b[0m\n",
      "\u001b[1;32mC:\\ProgramData\\Anaconda3\\lib\\site-packages\\numpy\\linalg\\linalg.py\u001b[0m in \u001b[0;36m_assert_stacked_square\u001b[1;34m(*arrays)\u001b[0m\n\u001b[0;32m    211\u001b[0m         \u001b[0mm\u001b[0m\u001b[1;33m,\u001b[0m \u001b[0mn\u001b[0m \u001b[1;33m=\u001b[0m \u001b[0ma\u001b[0m\u001b[1;33m.\u001b[0m\u001b[0mshape\u001b[0m\u001b[1;33m[\u001b[0m\u001b[1;33m-\u001b[0m\u001b[1;36m2\u001b[0m\u001b[1;33m:\u001b[0m\u001b[1;33m]\u001b[0m\u001b[1;33m\u001b[0m\u001b[1;33m\u001b[0m\u001b[0m\n\u001b[0;32m    212\u001b[0m         \u001b[1;32mif\u001b[0m \u001b[0mm\u001b[0m \u001b[1;33m!=\u001b[0m \u001b[0mn\u001b[0m\u001b[1;33m:\u001b[0m\u001b[1;33m\u001b[0m\u001b[1;33m\u001b[0m\u001b[0m\n\u001b[1;32m--> 213\u001b[1;33m             \u001b[1;32mraise\u001b[0m \u001b[0mLinAlgError\u001b[0m\u001b[1;33m(\u001b[0m\u001b[1;34m'Last 2 dimensions of the array must be square'\u001b[0m\u001b[1;33m)\u001b[0m\u001b[1;33m\u001b[0m\u001b[1;33m\u001b[0m\u001b[0m\n\u001b[0m\u001b[0;32m    214\u001b[0m \u001b[1;33m\u001b[0m\u001b[0m\n\u001b[0;32m    215\u001b[0m \u001b[1;32mdef\u001b[0m \u001b[0m_assert_finite\u001b[0m\u001b[1;33m(\u001b[0m\u001b[1;33m*\u001b[0m\u001b[0marrays\u001b[0m\u001b[1;33m)\u001b[0m\u001b[1;33m:\u001b[0m\u001b[1;33m\u001b[0m\u001b[1;33m\u001b[0m\u001b[0m\n",
      "\u001b[1;31mLinAlgError\u001b[0m: Last 2 dimensions of the array must be square"
     ]
    }
   ],
   "source": [
    "from numpy import linalg\n",
    "data = pd.read_csv(r'https://stepic.org/media/attachments/course/524/Norris_2.csv')\n",
    "data['one'] = 1\n",
    "print(data)\n",
    "\n",
    "#print(data[['V1', 'one']])\n",
    "def is_multicol(data):\n",
    "    M1 = np.array(data[['V1', 'V2']].values.T)\n",
    "    V1 = np.array(data['V3'].values)\n",
    "    print(M1, V1)\n",
    "    return linalg.det(M1)\n",
    "    #return linalg.matrix_rank(M1)\n",
    "    #return linalg.solve(M1, V1)\n",
    "    \n",
    "\n",
    "is_multicol(data)"
   ]
  },
  {
   "cell_type": "code",
   "execution_count": 41,
   "metadata": {},
   "outputs": [
    {
     "data": {
      "text/plain": [
       "int64      5\n",
       "object     5\n",
       "float64    2\n",
       "dtype: int64"
      ]
     },
     "execution_count": 41,
     "metadata": {},
     "output_type": "execute_result"
    }
   ],
   "source": [
    "#StudentsPerformance.csv\n",
    "data = pd.read_csv(r'C:\\Audiobooks\\ForDS\\titanic.csv')\n",
    "data.columns\n",
    "data.shape\n",
    "data.dtypes.value_counts()"
   ]
  }
 ],
 "metadata": {
  "kernelspec": {
   "display_name": "Python 3",
   "language": "python",
   "name": "python3"
  },
  "language_info": {
   "codemirror_mode": {
    "name": "ipython",
    "version": 3
   },
   "file_extension": ".py",
   "mimetype": "text/x-python",
   "name": "python",
   "nbconvert_exporter": "python",
   "pygments_lexer": "ipython3",
   "version": "3.8.3"
  }
 },
 "nbformat": 4,
 "nbformat_minor": 4
}
